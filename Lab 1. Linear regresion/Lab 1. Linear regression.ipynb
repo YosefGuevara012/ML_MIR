{
 "cells": [
  {
   "cell_type": "code",
   "execution_count": 1,
   "id": "84330862",
   "metadata": {},
   "outputs": [],
   "source": [
    "import re\n",
    "import pandas as pd"
   ]
  },
  {
   "cell_type": "code",
   "execution_count": 2,
   "id": "b82ef054",
   "metadata": {
    "scrolled": false
   },
   "outputs": [],
   "source": [
    "fileObject = open(\"data.txt\", \"r\")\n",
    "text = fileObject.read()"
   ]
  },
  {
   "cell_type": "code",
   "execution_count": 3,
   "id": "2e6af106",
   "metadata": {},
   "outputs": [],
   "source": [
    "number_regex = re.compile(r'\\d+\\.*\\d*')\n",
    "vector = number_regex.findall(text)"
   ]
  },
  {
   "cell_type": "code",
   "execution_count": 4,
   "id": "c01ddebf",
   "metadata": {
    "scrolled": false
   },
   "outputs": [
    {
     "data": {
      "text/plain": [
       "506.0"
      ]
     },
     "execution_count": 4,
     "metadata": {},
     "output_type": "execute_result"
    }
   ],
   "source": [
    "vector = vector[19:]\n",
    "len(vector)/14"
   ]
  },
  {
   "cell_type": "code",
   "execution_count": 5,
   "id": "33f72589",
   "metadata": {},
   "outputs": [
    {
     "data": {
      "text/plain": [
       "array([['0.00632', '18.00', '2.310', ..., '396.90', '4.98', '24.00'],\n",
       "       ['0.02731', '0.00', '7.070', ..., '396.90', '9.14', '21.60'],\n",
       "       ['0.02729', '0.00', '7.070', ..., '392.83', '4.03', '34.70'],\n",
       "       ...,\n",
       "       ['0.06076', '0.00', '11.930', ..., '396.90', '5.64', '23.90'],\n",
       "       ['0.10959', '0.00', '11.930', ..., '393.45', '6.48', '22.00'],\n",
       "       ['0.04741', '0.00', '11.930', ..., '396.90', '7.88', '11.90']],\n",
       "      dtype='<U8')"
      ]
     },
     "execution_count": 5,
     "metadata": {},
     "output_type": "execute_result"
    }
   ],
   "source": [
    "import numpy as np\n",
    "arr = np.array(vector)\n",
    "new_arr = arr.reshape(506, 14)\n",
    "new_arr"
   ]
  },
  {
   "cell_type": "code",
   "execution_count": null,
   "id": "6d22f28d",
   "metadata": {},
   "outputs": [],
   "source": []
  }
 ],
 "metadata": {
  "kernelspec": {
   "display_name": "Python 3 (ipykernel)",
   "language": "python",
   "name": "python3"
  },
  "language_info": {
   "codemirror_mode": {
    "name": "ipython",
    "version": 3
   },
   "file_extension": ".py",
   "mimetype": "text/x-python",
   "name": "python",
   "nbconvert_exporter": "python",
   "pygments_lexer": "ipython3",
   "version": "3.8.15"
  }
 },
 "nbformat": 4,
 "nbformat_minor": 5
}
