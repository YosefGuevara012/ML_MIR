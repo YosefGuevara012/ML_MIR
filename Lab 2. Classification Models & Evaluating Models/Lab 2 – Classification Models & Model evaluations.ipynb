{
  "cells": [
    {
      "cell_type": "markdown",
      "id": "77d402d9",
      "metadata": {
        "id": "77d402d9"
      },
      "source": [
        "### 2.2 Question 2\n",
        "\n",
        "Download the Iris dataset from https://archive.ics.uci.edu/ml/machine-learning-databases/iris/. The dataset can be downloaded from iris.data. Load the data into a pandas dataframe.\n",
        "For this lab, we’re going to be performing a binary classification problem,\n",
        "but this dataset has 3 classes: setosa, virginica, and versicolor. So we want\n",
        "to take this multi-class problem and transform it into a binary classification.\n",
        "Create a new column for the dataset called target. The value of target\n",
        "will be 1 if the row contains a setosa flower, else the value is $0$. There should\n",
        "be $\\frac{1}{3}$ rows with the value of $1$, the rest should be $0$."
      ]
    },
    {
      "cell_type": "code",
      "execution_count": 3,
      "id": "22f45ca1",
      "metadata": {
        "colab": {
          "base_uri": "https://localhost:8080/",
          "height": 423
        },
        "id": "22f45ca1",
        "outputId": "72cafb6d-5f51-4a54-e465-c2ef3bdfd81a"
      },
      "outputs": [
        {
          "output_type": "execute_result",
          "data": {
            "text/plain": [
              "     Sepal_Length  Sepal_Width  Petal_Length  Petal_Width         Species  \\\n",
              "0             5.1          3.5           1.4          0.2     Iris-setosa   \n",
              "1             4.9          3.0           1.4          0.2     Iris-setosa   \n",
              "2             4.7          3.2           1.3          0.2     Iris-setosa   \n",
              "3             4.6          3.1           1.5          0.2     Iris-setosa   \n",
              "4             5.0          3.6           1.4          0.2     Iris-setosa   \n",
              "..            ...          ...           ...          ...             ...   \n",
              "145           6.7          3.0           5.2          2.3  Iris-virginica   \n",
              "146           6.3          2.5           5.0          1.9  Iris-virginica   \n",
              "147           6.5          3.0           5.2          2.0  Iris-virginica   \n",
              "148           6.2          3.4           5.4          2.3  Iris-virginica   \n",
              "149           5.9          3.0           5.1          1.8  Iris-virginica   \n",
              "\n",
              "     target  \n",
              "0         1  \n",
              "1         1  \n",
              "2         1  \n",
              "3         1  \n",
              "4         1  \n",
              "..      ...  \n",
              "145       0  \n",
              "146       0  \n",
              "147       0  \n",
              "148       0  \n",
              "149       0  \n",
              "\n",
              "[150 rows x 6 columns]"
            ],
            "text/html": [
              "\n",
              "  <div id=\"df-7bfa736f-654b-45bf-8688-a001753dca7d\">\n",
              "    <div class=\"colab-df-container\">\n",
              "      <div>\n",
              "<style scoped>\n",
              "    .dataframe tbody tr th:only-of-type {\n",
              "        vertical-align: middle;\n",
              "    }\n",
              "\n",
              "    .dataframe tbody tr th {\n",
              "        vertical-align: top;\n",
              "    }\n",
              "\n",
              "    .dataframe thead th {\n",
              "        text-align: right;\n",
              "    }\n",
              "</style>\n",
              "<table border=\"1\" class=\"dataframe\">\n",
              "  <thead>\n",
              "    <tr style=\"text-align: right;\">\n",
              "      <th></th>\n",
              "      <th>Sepal_Length</th>\n",
              "      <th>Sepal_Width</th>\n",
              "      <th>Petal_Length</th>\n",
              "      <th>Petal_Width</th>\n",
              "      <th>Species</th>\n",
              "      <th>target</th>\n",
              "    </tr>\n",
              "  </thead>\n",
              "  <tbody>\n",
              "    <tr>\n",
              "      <th>0</th>\n",
              "      <td>5.1</td>\n",
              "      <td>3.5</td>\n",
              "      <td>1.4</td>\n",
              "      <td>0.2</td>\n",
              "      <td>Iris-setosa</td>\n",
              "      <td>1</td>\n",
              "    </tr>\n",
              "    <tr>\n",
              "      <th>1</th>\n",
              "      <td>4.9</td>\n",
              "      <td>3.0</td>\n",
              "      <td>1.4</td>\n",
              "      <td>0.2</td>\n",
              "      <td>Iris-setosa</td>\n",
              "      <td>1</td>\n",
              "    </tr>\n",
              "    <tr>\n",
              "      <th>2</th>\n",
              "      <td>4.7</td>\n",
              "      <td>3.2</td>\n",
              "      <td>1.3</td>\n",
              "      <td>0.2</td>\n",
              "      <td>Iris-setosa</td>\n",
              "      <td>1</td>\n",
              "    </tr>\n",
              "    <tr>\n",
              "      <th>3</th>\n",
              "      <td>4.6</td>\n",
              "      <td>3.1</td>\n",
              "      <td>1.5</td>\n",
              "      <td>0.2</td>\n",
              "      <td>Iris-setosa</td>\n",
              "      <td>1</td>\n",
              "    </tr>\n",
              "    <tr>\n",
              "      <th>4</th>\n",
              "      <td>5.0</td>\n",
              "      <td>3.6</td>\n",
              "      <td>1.4</td>\n",
              "      <td>0.2</td>\n",
              "      <td>Iris-setosa</td>\n",
              "      <td>1</td>\n",
              "    </tr>\n",
              "    <tr>\n",
              "      <th>...</th>\n",
              "      <td>...</td>\n",
              "      <td>...</td>\n",
              "      <td>...</td>\n",
              "      <td>...</td>\n",
              "      <td>...</td>\n",
              "      <td>...</td>\n",
              "    </tr>\n",
              "    <tr>\n",
              "      <th>145</th>\n",
              "      <td>6.7</td>\n",
              "      <td>3.0</td>\n",
              "      <td>5.2</td>\n",
              "      <td>2.3</td>\n",
              "      <td>Iris-virginica</td>\n",
              "      <td>0</td>\n",
              "    </tr>\n",
              "    <tr>\n",
              "      <th>146</th>\n",
              "      <td>6.3</td>\n",
              "      <td>2.5</td>\n",
              "      <td>5.0</td>\n",
              "      <td>1.9</td>\n",
              "      <td>Iris-virginica</td>\n",
              "      <td>0</td>\n",
              "    </tr>\n",
              "    <tr>\n",
              "      <th>147</th>\n",
              "      <td>6.5</td>\n",
              "      <td>3.0</td>\n",
              "      <td>5.2</td>\n",
              "      <td>2.0</td>\n",
              "      <td>Iris-virginica</td>\n",
              "      <td>0</td>\n",
              "    </tr>\n",
              "    <tr>\n",
              "      <th>148</th>\n",
              "      <td>6.2</td>\n",
              "      <td>3.4</td>\n",
              "      <td>5.4</td>\n",
              "      <td>2.3</td>\n",
              "      <td>Iris-virginica</td>\n",
              "      <td>0</td>\n",
              "    </tr>\n",
              "    <tr>\n",
              "      <th>149</th>\n",
              "      <td>5.9</td>\n",
              "      <td>3.0</td>\n",
              "      <td>5.1</td>\n",
              "      <td>1.8</td>\n",
              "      <td>Iris-virginica</td>\n",
              "      <td>0</td>\n",
              "    </tr>\n",
              "  </tbody>\n",
              "</table>\n",
              "<p>150 rows × 6 columns</p>\n",
              "</div>\n",
              "      <button class=\"colab-df-convert\" onclick=\"convertToInteractive('df-7bfa736f-654b-45bf-8688-a001753dca7d')\"\n",
              "              title=\"Convert this dataframe to an interactive table.\"\n",
              "              style=\"display:none;\">\n",
              "        \n",
              "  <svg xmlns=\"http://www.w3.org/2000/svg\" height=\"24px\"viewBox=\"0 0 24 24\"\n",
              "       width=\"24px\">\n",
              "    <path d=\"M0 0h24v24H0V0z\" fill=\"none\"/>\n",
              "    <path d=\"M18.56 5.44l.94 2.06.94-2.06 2.06-.94-2.06-.94-.94-2.06-.94 2.06-2.06.94zm-11 1L8.5 8.5l.94-2.06 2.06-.94-2.06-.94L8.5 2.5l-.94 2.06-2.06.94zm10 10l.94 2.06.94-2.06 2.06-.94-2.06-.94-.94-2.06-.94 2.06-2.06.94z\"/><path d=\"M17.41 7.96l-1.37-1.37c-.4-.4-.92-.59-1.43-.59-.52 0-1.04.2-1.43.59L10.3 9.45l-7.72 7.72c-.78.78-.78 2.05 0 2.83L4 21.41c.39.39.9.59 1.41.59.51 0 1.02-.2 1.41-.59l7.78-7.78 2.81-2.81c.8-.78.8-2.07 0-2.86zM5.41 20L4 18.59l7.72-7.72 1.47 1.35L5.41 20z\"/>\n",
              "  </svg>\n",
              "      </button>\n",
              "      \n",
              "  <style>\n",
              "    .colab-df-container {\n",
              "      display:flex;\n",
              "      flex-wrap:wrap;\n",
              "      gap: 12px;\n",
              "    }\n",
              "\n",
              "    .colab-df-convert {\n",
              "      background-color: #E8F0FE;\n",
              "      border: none;\n",
              "      border-radius: 50%;\n",
              "      cursor: pointer;\n",
              "      display: none;\n",
              "      fill: #1967D2;\n",
              "      height: 32px;\n",
              "      padding: 0 0 0 0;\n",
              "      width: 32px;\n",
              "    }\n",
              "\n",
              "    .colab-df-convert:hover {\n",
              "      background-color: #E2EBFA;\n",
              "      box-shadow: 0px 1px 2px rgba(60, 64, 67, 0.3), 0px 1px 3px 1px rgba(60, 64, 67, 0.15);\n",
              "      fill: #174EA6;\n",
              "    }\n",
              "\n",
              "    [theme=dark] .colab-df-convert {\n",
              "      background-color: #3B4455;\n",
              "      fill: #D2E3FC;\n",
              "    }\n",
              "\n",
              "    [theme=dark] .colab-df-convert:hover {\n",
              "      background-color: #434B5C;\n",
              "      box-shadow: 0px 1px 3px 1px rgba(0, 0, 0, 0.15);\n",
              "      filter: drop-shadow(0px 1px 2px rgba(0, 0, 0, 0.3));\n",
              "      fill: #FFFFFF;\n",
              "    }\n",
              "  </style>\n",
              "\n",
              "      <script>\n",
              "        const buttonEl =\n",
              "          document.querySelector('#df-7bfa736f-654b-45bf-8688-a001753dca7d button.colab-df-convert');\n",
              "        buttonEl.style.display =\n",
              "          google.colab.kernel.accessAllowed ? 'block' : 'none';\n",
              "\n",
              "        async function convertToInteractive(key) {\n",
              "          const element = document.querySelector('#df-7bfa736f-654b-45bf-8688-a001753dca7d');\n",
              "          const dataTable =\n",
              "            await google.colab.kernel.invokeFunction('convertToInteractive',\n",
              "                                                     [key], {});\n",
              "          if (!dataTable) return;\n",
              "\n",
              "          const docLinkHtml = 'Like what you see? Visit the ' +\n",
              "            '<a target=\"_blank\" href=https://colab.research.google.com/notebooks/data_table.ipynb>data table notebook</a>'\n",
              "            + ' to learn more about interactive tables.';\n",
              "          element.innerHTML = '';\n",
              "          dataTable['output_type'] = 'display_data';\n",
              "          await google.colab.output.renderOutput(dataTable, element);\n",
              "          const docLink = document.createElement('div');\n",
              "          docLink.innerHTML = docLinkHtml;\n",
              "          element.appendChild(docLink);\n",
              "        }\n",
              "      </script>\n",
              "    </div>\n",
              "  </div>\n",
              "  "
            ]
          },
          "metadata": {},
          "execution_count": 3
        }
      ],
      "source": [
        "import pandas as pd\n",
        "import numpy as np\n",
        "\n",
        "# Defining the fielpath\n",
        "filepath = \"/content/data/iris.data\" \n",
        "\n",
        "def load_data(filepath):\n",
        "    \n",
        "    # This part reads the data and avoids to use the first row as the column name\n",
        "    df = pd.read_csv(filepath, header = None)\n",
        "    \n",
        "    # After that the column names for the Dataset are assigned\n",
        "    col_names = ['Sepal_Length','Sepal_Width','Petal_Length','Petal_Width','Species']\n",
        "    df.columns = col_names  \n",
        "    \n",
        "    # Then the column \"tareget\" is created and filled with ceros\n",
        "    df['target']  = 0\n",
        "    \n",
        "    # Then the values in \"target\" column are modified depending if the Specie is or not a Setosa\n",
        "    df.loc[df['Species'] == 'Iris-setosa', 'target'] = 1\n",
        "    \n",
        "    return df\n",
        "\n",
        "# The previous function is called\n",
        "iris  = load_data(filepath)\n",
        "iris"
      ]
    },
    {
      "cell_type": "markdown",
      "id": "c374e109",
      "metadata": {
        "id": "c374e109"
      },
      "source": [
        "### 2.3 Question 3\n",
        "For this question we want to take this dataset of 150 rows, and split it into\n",
        "a train, test, and validation dataset, using the following proportions for each\n",
        "split:\n",
        "\n",
        "• Training: 70%\n",
        "\n",
        "• Validation: 10%\n",
        "\n",
        "• Testing: 20%\n",
        "\n",
        "Sample data for each subset using stratified sampling. I.e. the training data should have roughly $\\frac{1}{3}$\n",
        "positive samples, the testing and validation dataset should also have roughly $\\frac{1}{3}$ positive samples.\n"
      ]
    },
    {
      "cell_type": "code",
      "execution_count": 4,
      "id": "41d597eb",
      "metadata": {
        "scrolled": false,
        "colab": {
          "base_uri": "https://localhost:8080/"
        },
        "id": "41d597eb",
        "outputId": "464afc79-b9af-4e87-e835-445b6b114f69"
      },
      "outputs": [
        {
          "output_type": "execute_result",
          "data": {
            "text/plain": [
              "Iris-setosa        50\n",
              "Iris-versicolor    50\n",
              "Iris-virginica     50\n",
              "Name: Species, dtype: int64"
            ]
          },
          "metadata": {},
          "execution_count": 4
        }
      ],
      "source": [
        "iris['Species'].value_counts()"
      ]
    },
    {
      "cell_type": "code",
      "execution_count": 5,
      "id": "37a28480",
      "metadata": {
        "id": "37a28480"
      },
      "outputs": [],
      "source": [
        "def slipt_data(df, column):\n",
        "    \n",
        "    values = list(df[column].unique())\n",
        "    \n",
        "    training_set = pd.DataFrame()\n",
        "    testing_set = pd.DataFrame()\n",
        "    validation_set = pd.DataFrame()\n",
        "    \n",
        "    for value in values:\n",
        "        \n",
        "        data = df[df[column] == value]\n",
        "        train=data.sample(n = 35,random_state=42)\n",
        "        test=data.drop(train.index)\n",
        "        validation = test.sample(n=5,random_state=42)\n",
        "        test=test.drop(validation.index)\n",
        "        \n",
        "        training_set = pd.concat([training_set, train])\n",
        "        testing_set = pd.concat([testing_set, test])\n",
        "        validation_set = pd.concat([validation_set, validation])\n",
        "\n",
        "    return training_set, testing_set, validation_set"
      ]
    },
    {
      "cell_type": "code",
      "execution_count": 6,
      "id": "f80e0bc9",
      "metadata": {
        "id": "f80e0bc9"
      },
      "outputs": [],
      "source": [
        "training_set, testing_set, validation_set = slipt_data(iris, 'Species')"
      ]
    },
    {
      "cell_type": "markdown",
      "id": "c0601325",
      "metadata": {
        "id": "c0601325"
      },
      "source": [
        "### 2.4 Question 4\n",
        "Using the linear regression model you created in the previous lecture, transform it into a logistic regressor by applying the logistic function to the output\n",
        "of the model. The loss function for this model should be binary cross entropy.\n",
        "\n",
        "Select two columns from the Iris dataset (i.e. petal length and petal\n",
        "width), and using these two columns, train a logistic regressor using gradient\n",
        "descent, measuring the gradient using finite differences approximation. This\n",
        "means that instead of having a single slope variable, we have multiple:\n",
        "\n",
        "$$\\hat{y} = \\sigma\\left (\\beta_{0} + \\sum_{i = 1}^{m}x_{i}\\beta_{i}\\right )$$\n",
        "\n",
        "\n",
        "where $\\hat{y}$ is the model’s probability prediction, $\\sigma$ is the logistic/sigmoid\n",
        "function, $\\beta_{0}$ is the intercept, $\\beta_{i}$\n",
        "is the coefficient that modulates the $X_{i}$ variable.\n",
        "\n",
        "I’ve made a start for you, please fill in the ’#TODOs’:"
      ]
    },
    {
      "cell_type": "code",
      "execution_count": 7,
      "id": "09978582",
      "metadata": {
        "id": "09978582"
      },
      "outputs": [],
      "source": [
        "train_x = training_set[[\"Petal_Length\", \"Petal_Width\"]]\n",
        "train_y = training_set['target']"
      ]
    },
    {
      "cell_type": "code",
      "execution_count": 8,
      "id": "a194840c",
      "metadata": {
        "id": "a194840c"
      },
      "outputs": [],
      "source": [
        "def lm(x, weights):\n",
        "    \n",
        "    h =  weights[0] + np.dot(weights[1:], x.T)\n",
        "    \n",
        "    return h\n",
        "\n",
        "def sigmoid(h):\n",
        "    \"\"\"\n",
        "    Calculate sigmoid\n",
        "    \"\"\"\n",
        "    return 1 / (1 + np.exp(-h))\n",
        "\n",
        "def bce(y, z):\n",
        "    \n",
        "    negative_side = (1-y)* np.log(z)\n",
        "    positive_side = (y)* np.log(z)\n",
        "    N = len(y)\n",
        "    loss = (-1/N)* np.sum(positive_side + negative_side)\n",
        "    \n",
        "    return loss"
      ]
    },
    {
      "cell_type": "code",
      "execution_count": 9,
      "id": "10b7dd0b",
      "metadata": {
        "id": "10b7dd0b"
      },
      "outputs": [],
      "source": [
        "def bce(y, yhat):\n",
        "    \n",
        "    # TODO: apply the binary cross entropy function returning the loss\n",
        "    negative_side = (1-y)* np.log(yhat)\n",
        "    positive_side = (y)* np.log(yhat)\n",
        "    N = len(y)\n",
        "    loss = (-1/N)* np.sum(positive_side + negative_side)\n",
        "    return loss\n",
        "\n",
        "\n",
        "class LogisticRegressor:\n",
        "    \n",
        "    def __init__(self, n_features: int = 2):\n",
        "\n",
        "        self.params = np.random.randn(n_features + 1)\n",
        "\n",
        "    def logistic(self, x):\n",
        "        # TODO: apply the logistic function\n",
        "\n",
        "        h = self.params[0] + np.dot(self.params[1:], x.T)\n",
        "        z = 1 / (1 + np.exp(-h))\n",
        "        return z\n",
        "\n",
        "    def __call__(self, x, logits=False):\n",
        "                                    \n",
        "        y = self.params[0] + self.params[1:] @ x.T\n",
        "\n",
        "        if not logits:\n",
        "            y = self.logistic(y)\n",
        "        return y\n",
        "\n",
        "    def fit(self, train_x, train_y, epochs: int = 100, lr: float = 0.01):\n",
        "        # TODO: train the model using gradient descent and finite-differences\n",
        "        delta_w = np.zeros(self.params.shape)\n",
        "        n = len(train_y)\n",
        "        \n",
        "        for epoch in range(epochs):\n",
        "            for xi, yi in zip(train_x.values, train_y.values):\n",
        "                # calculate loss and update model parameters using gradient descent\n",
        "                zi = self.logistic(xi)\n",
        "                error_term_i = zi - yi\n",
        "                delta_w[0]  +=  error_term_i\n",
        "                delta_w[1:] += np.dot(error_term_i, xi)\n",
        "        \n",
        "            self.params -= lr * delta_w / n\n",
        "            print(self.params)\n"
      ]
    },
    {
      "cell_type": "markdown",
      "id": "aa3c97e9",
      "metadata": {
        "id": "aa3c97e9"
      },
      "source": [
        "### 2.5 Question 5\n",
        "As gradient descent is iterating, store (using class variables), the training and validation loss.\n",
        "\n",
        "Visualise the training and validation loss. Is there a point at which the model begins to over fit? How do you know that the model is beginning to overfit by looking at these curves?"
      ]
    },
    {
      "cell_type": "markdown",
      "id": "706eb33d",
      "metadata": {
        "id": "706eb33d"
      },
      "source": [
        "### 2.6 Question 6\n",
        "Predict the class labels for the testing set.\n",
        "For the testing set, calculate the:\n",
        "\n",
        "• TP – number of true positives\n",
        "\n",
        "• TN – number of true negatives\n",
        "\n",
        "• FP – number of false positives\n",
        "\n",
        "• FN – number of false negatives"
      ]
    },
    {
      "cell_type": "code",
      "execution_count": 10,
      "id": "b7a43e23",
      "metadata": {
        "id": "b7a43e23"
      },
      "outputs": [],
      "source": [
        "def confusion_matrix(y, yhat):\n",
        "    \n",
        "    \"\"\"\n",
        "    This function returns the elements of a two-dimensional confusion matrix \n",
        "    calculated by counting the true values resulting of using logical operators such that:\n",
        "\n",
        "        TP = Logical AND\n",
        "        TN = Logical NOR\n",
        "        FP = Logical A'B\n",
        "        FN = Logical AB'\n",
        "\n",
        "    \"\"\"\n",
        "    \n",
        "    # Logical AND Gate\n",
        "    TP = np.sum(np.logical_and(y, yhat))\n",
        "    \n",
        "    # Logical NOR Gate\n",
        "    TN = np.sum(np.logical_and(np.logical_not(y),np.logical_not(yhat)))\n",
        "    \n",
        "    # Logical A'B Gate\n",
        "    FP = np.sum(np.logical_and(np.logical_not(y),yhat))\n",
        "    \n",
        "    # Logical AB' Gate\n",
        "    FN = np.sum(np.logical_and(y,np.logical_not(yhat)))\n",
        "    \n",
        "    return TP, TN, FP, FN"
      ]
    },
    {
      "cell_type": "code",
      "execution_count": 11,
      "id": "fe913794",
      "metadata": {
        "colab": {
          "base_uri": "https://localhost:8080/"
        },
        "id": "fe913794",
        "outputId": "0cb81931-aad2-46d7-c4fc-d9a9f3d8e1c0"
      },
      "outputs": [
        {
          "output_type": "stream",
          "name": "stdout",
          "text": [
            "TP 1,TN 2,FP 1,FN 2\n"
          ]
        }
      ],
      "source": [
        "y =    np.array([1,1,0,1,0,0])\n",
        "yhat = np.array([0,0,1,1,0,0])\n",
        "\n",
        "\n",
        "\n",
        "TP, TN, FP, FN = confusion_matrix(y, yhat)\n",
        "\n",
        "print(\"TP \"+str(TP) + \",TN \"+ str(TN) + \",FP \"+ str(FP) + \",FN \"+ str(FN) )"
      ]
    },
    {
      "cell_type": "markdown",
      "id": "0a08b1ac",
      "metadata": {
        "id": "0a08b1ac"
      },
      "source": [
        "### 2.7 Question 7\n",
        "Calculate the precision and recall and F1 score.\n"
      ]
    },
    {
      "cell_type": "markdown",
      "id": "3fad65d9",
      "metadata": {
        "id": "3fad65d9"
      },
      "source": [
        "$$Precission = \\frac{TP}{TP + FP}$$\n",
        "\n",
        "$$Recall = \\frac{TP}{TP + FN}$$\n",
        "\n",
        "$$F_{\\beta} = (1 + \\beta^{2})\\frac{Precission * Recall}{(\\beta^{2}* Precision) + Recall)}$$"
      ]
    },
    {
      "cell_type": "markdown",
      "id": "727ea48a",
      "metadata": {
        "id": "727ea48a"
      },
      "source": [
        "Calling the above function and making use of the previous equations we have that the metrics of the confusion matrix are given by:"
      ]
    },
    {
      "cell_type": "code",
      "execution_count": 12,
      "id": "330e861f",
      "metadata": {
        "id": "330e861f"
      },
      "outputs": [],
      "source": [
        "\n",
        "def precision(y, yhat):\n",
        "    # calculate the precision and return it\n",
        "    TP, TN, FP, FN = confusion_matrix(y, yhat)  \n",
        "    pr = TP / (TP + FP)\n",
        "    \n",
        "    return pr\n",
        "\n",
        "def recall(y, yhat):\n",
        "    # calculate the recall and return it\n",
        "    TP, TN, FP, FN = confusion_matrix(y, yhat)\n",
        "    rc = TP / (TP + FN)\n",
        "    \n",
        "    return rc\n",
        "\n",
        "def f_beta(y, yhat, beta=1):\n",
        "    \n",
        "    pr = precision(y, yhat)\n",
        "    rc = recall(y, yhat)\n",
        "    \n",
        "    # calculate the f_beta score and return it\n",
        "    fb = (1 + beta**2) * ((pr * rc) / ((beta**2 * pr) + rc))\n",
        "    \n",
        "    return fb\n"
      ]
    },
    {
      "cell_type": "markdown",
      "id": "808e81b5",
      "metadata": {
        "id": "808e81b5"
      },
      "source": [
        "### 2.8 Question 8\n",
        "Generate a report using the precision, recall and F1 and confusion matrix.\n",
        "The report should be printed like:"
      ]
    },
    {
      "cell_type": "code",
      "execution_count": 69,
      "id": "a4b4ad0a",
      "metadata": {
        "scrolled": false,
        "id": "a4b4ad0a"
      },
      "outputs": [],
      "source": [
        "\n",
        "def print_report(y,yhat):\n",
        "\n",
        "  pr = np.round(precision(y, yhat),1)\n",
        "  rc = np.round(recall(y, yhat),1)\n",
        "  f1 = np.round(f_beta(y, yhat),1)\n",
        "\n",
        "  row_1 = \"|\" + \" \" * 8 + \"|\" + \" \" * 10 + \"| Predicted |\" + \" \" *10 + \"|\\n\"\n",
        "  row_2 = \"|\" + \" \" * 8 + \"|\" + \" \" * 10 + \"|  Positive |\" + \" Negative |\\n\"\n",
        "  row_3 = \"| Actual |\" + \" Positive |\" + \" \" * (10 - len(str(TP))) + str(TP) + \" |\" + \" \" * (9 - len(str(FN))) + str(FN) + \" |\\n\"\n",
        "  row_4 = \"|\" + \" \" * 8 + \"|\" + \" Negative |\" + \" \" * (10 - len(str(FP))) + str(FP) + \" |\" + \" \" * (9 - len(str(TN))) + str(TN) + \" |\\n\\n\"\n",
        "  row_5 = \"- Precision: {0} \\n\".format(pr)\n",
        "  row_6 = \"- Recall: {0} \\n\".format(rc)\n",
        "  row_7 = \"- F_1 Score: {0} \\n\".format(f1)\n",
        "\n",
        "  conf_matrix = (row_1+row_2+row_3+row_4+row_5+row_6+row_7)\n",
        "\n",
        "  print(conf_matrix)\n",
        "\n"
      ]
    },
    {
      "cell_type": "markdown",
      "id": "8beb8ea0",
      "metadata": {
        "id": "8beb8ea0"
      },
      "source": [
        "### 2.9 Question 9\n",
        "Calculate the true-positive and false positive rate, and from these values\n",
        "generate a ROC curve.\n"
      ]
    },
    {
      "cell_type": "code",
      "source": [
        "np.random.seed(42)\n",
        "x = np.abs(np.random.randn(20))\n",
        "x"
      ],
      "metadata": {
        "colab": {
          "base_uri": "https://localhost:8080/"
        },
        "id": "_fQZU0V9oYUT",
        "outputId": "f5966d89-cf66-4a80-d3d5-42e836b4e2e9"
      },
      "id": "_fQZU0V9oYUT",
      "execution_count": 81,
      "outputs": [
        {
          "output_type": "execute_result",
          "data": {
            "text/plain": [
              "array([0.49671415, 0.1382643 , 0.64768854, 1.52302986, 0.23415337,\n",
              "       0.23413696, 1.57921282, 0.76743473, 0.46947439, 0.54256004,\n",
              "       0.46341769, 0.46572975, 0.24196227, 1.91328024, 1.72491783,\n",
              "       0.56228753, 1.01283112, 0.31424733, 0.90802408, 1.4123037 ])"
            ]
          },
          "metadata": {},
          "execution_count": 81
        }
      ]
    },
    {
      "cell_type": "code",
      "source": [
        "def predict(yhat, threshold = 0.5):\n",
        " \n",
        "  y = [1 if i >= threshold else 0 for i in yhat]\n",
        "\n",
        "  return y"
      ],
      "metadata": {
        "id": "4tWHaG4EoOQT"
      },
      "id": "4tWHaG4EoOQT",
      "execution_count": 25,
      "outputs": []
    },
    {
      "cell_type": "code",
      "source": [
        "y = [0, 0, 1, 1, 0, 0, 1, 1, 0, 1, 0, 0, 0, 1, 1, 1, 1, 0, 1, 1]"
      ],
      "metadata": {
        "id": "v00Q4p_msywT"
      },
      "id": "v00Q4p_msywT",
      "execution_count": 26,
      "outputs": []
    },
    {
      "cell_type": "code",
      "source": [
        "yhat = predict(x)\n",
        "yhat"
      ],
      "metadata": {
        "colab": {
          "base_uri": "https://localhost:8080/"
        },
        "id": "yUNZnTjasjsb",
        "outputId": "148aa9fe-ccd6-4cec-9efa-192fa928a264"
      },
      "id": "yUNZnTjasjsb",
      "execution_count": 82,
      "outputs": [
        {
          "output_type": "execute_result",
          "data": {
            "text/plain": [
              "[0, 0, 1, 1, 0, 0, 1, 1, 0, 1, 0, 0, 0, 1, 1, 1, 1, 0, 1, 1]"
            ]
          },
          "metadata": {},
          "execution_count": 82
        }
      ]
    },
    {
      "cell_type": "code",
      "source": [
        "print_report(y,yhat)"
      ],
      "metadata": {
        "colab": {
          "base_uri": "https://localhost:8080/"
        },
        "id": "tO2vWBo40_6G",
        "outputId": "e571d68d-9ea4-491e-beda-cb9c51859dc9"
      },
      "id": "tO2vWBo40_6G",
      "execution_count": 83,
      "outputs": [
        {
          "output_type": "stream",
          "name": "stdout",
          "text": [
            "|        |          | Predicted |          |\n",
            "|        |          |  Positive | Negative |\n",
            "| Actual | Positive |         1 |        2 |\n",
            "|        | Negative |         1 |        2 |\n",
            "\n",
            "- Precision: 1.0 \n",
            "- Recall: 1.0 \n",
            "- F_1 Score: 1.0 \n",
            "\n"
          ]
        }
      ]
    },
    {
      "cell_type": "code",
      "execution_count": 84,
      "id": "2eba1750",
      "metadata": {
        "id": "2eba1750"
      },
      "outputs": [],
      "source": [
        "def roc(y, yhat, threshold_step=0.01):\n",
        "# iteratively increase the threshold by threshold_step,\n",
        "# calculating the TP and FP rate for each iteration. This function\n",
        "# should return two lists, a list of TP rates, and a list of FP\n",
        "# rates.\n",
        "    steps = np.arange(0,1,threshold_step)\n",
        "    \n",
        "    sensitivity = []\n",
        "    specificity = []\n",
        "\n",
        "    for step in steps:\n",
        "\n",
        "      pred = predict(yhat, step)\n",
        "      TP, TN, FP, FN = confusion_matrix(y, pred)\n",
        "\n",
        "      sensitivity.append(TP / (TP + FN))\n",
        "      specificity.append(TN / (TN + FP))\n",
        "\n",
        "\n",
        "    return specificity, sensitivity\n",
        "\n",
        "specificity, sensitivity = roc(y, x)"
      ]
    },
    {
      "cell_type": "code",
      "source": [
        "import matplotlib.pyplot as plt\n",
        "\n",
        "plt.figure(figsize=(10, 5), dpi=80)\n",
        "plt.plot(specificity, sensitivity, )\n",
        "\n",
        "plt.title(\"ROC Curve\")\n",
        "plt.xlabel(\"Specificity\")\n",
        "plt.ylabel(\"Sensitivity\")\n",
        "plt.grid()\n",
        "plt.show()"
      ],
      "metadata": {
        "colab": {
          "base_uri": "https://localhost:8080/",
          "height": 383
        },
        "id": "BifJTWEOx7nF",
        "outputId": "537a0310-a92c-4009-9c56-2e37735ee801"
      },
      "id": "BifJTWEOx7nF",
      "execution_count": 92,
      "outputs": [
        {
          "output_type": "display_data",
          "data": {
            "text/plain": [
              "<Figure size 800x400 with 1 Axes>"
            ],
            "image/png": "[encoded data removed]"
          },
          "metadata": {
            "needs_background": "light"
          }
        }
      ]
    },
    {
      "cell_type": "markdown",
      "id": "10e280b5",
      "metadata": {
        "id": "10e280b5"
      },
      "source": [
        "### 2.10 Question 10\n",
        "Now that you’ve created a logistic classifier for two features of the Iris dataset\n",
        "and have created some analytic results. Select another two columns (i.e.\n",
        "petal width and sepal length, or petal length and sepal width). Create\n",
        "a different logistic classifier using these new columns and create the same\n",
        "results as you did with questions 8 and 9.\n",
        "Compare these two models trained with different columns. Which model\n",
        "is best, and why do we know that it’s the best?\n"
      ]
    }
  ],
  "metadata": {
    "kernelspec": {
      "display_name": "Python 3 (ipykernel)",
      "language": "python",
      "name": "python3"
    },
    "language_info": {
      "codemirror_mode": {
        "name": "ipython",
        "version": 3
      },
      "file_extension": ".py",
      "mimetype": "text/x-python",
      "name": "python",
      "nbconvert_exporter": "python",
      "pygments_lexer": "ipython3",
      "version": "3.8.15"
    },
    "colab": {
      "provenance": []
    }
  },
  "nbformat": 4,
  "nbformat_minor": 5
}