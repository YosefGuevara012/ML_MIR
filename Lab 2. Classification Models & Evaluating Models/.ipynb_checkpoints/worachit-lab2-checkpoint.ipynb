{
 "cells": [
  {
   "cell_type": "code",
   "execution_count": 1,
   "metadata": {},
   "outputs": [],
   "source": [
    "import pandas as pd \n",
    "import numpy as np\n",
    "import matplotlib.pyplot as plt\n",
    "import random\n",
    "from math import exp"
   ]
  },
  {
   "cell_type": "markdown",
   "metadata": {},
   "source": [
    "## Question 2\n",
    "\n",
    "Parse and load the data into a pandas DataFrame.\n",
    "\n",
    "Create a new column for the dataset called target. The value of target\n",
    "will be 1 if the row contains a setosa flower, else the value is 0. There should\n",
    "be 1/3 rows with the value of 1, the rest should be 0"
   ]
  },
  {
   "cell_type": "code",
   "execution_count": 2,
   "metadata": {},
   "outputs": [
    {
     "name": "stdout",
     "output_type": "stream",
     "text": [
      "50\n",
      "100\n"
     ]
    }
   ],
   "source": [
    "collumn_names = [\"sepal_length\",\"sepal_width\",\"petal_length\",\"petal_width\",\"class\"]\n",
    "data =  pd.read_csv('iris.data', sep=\",\", names=collumn_names, header=None)\n",
    "data[\"target\"] = data['class'].apply(lambda x: 1 if x == \"Iris-setosa\" else 0)\n",
    "\n",
    "# verify the number of data of the output\n",
    "print(sum(data[\"target\"]))\n",
    "print(sum(np.logical_not(data[\"target\"])))"
   ]
  },
  {
   "cell_type": "markdown",
   "metadata": {},
   "source": [
    "## Question 3\n",
    "\n",
    "Random and split the data into 3 sets\n",
    "1. train data -> 70%\n",
    "2. validatoin data -> 10%\n",
    "3. test data -> 20%"
   ]
  },
  {
   "cell_type": "code",
   "execution_count": 3,
   "metadata": {},
   "outputs": [
    {
     "name": "stdout",
     "output_type": "stream",
     "text": [
      "Int64Index([ 27, 100,   2,   8, 128,  98, 109,  89,  34,  69,\n",
      "            ...\n",
      "             29,  87,  38,  14,  67,  50,   3,  96, 118,   6],\n",
      "           dtype='int64', length=105)\n",
      "Int64Index([123, 107, 33, 139, 110, 103, 134, 1, 95, 46, 7, 40, 99, 119], dtype='int64')\n",
      "Int64Index([122,  71,  10, 141, 126,  47, 133,  78,   4,  73,  13,  83,  63,\n",
      "             19,  54,  41, 130, 101,  59,  94,  12,  16,  84,  58,   0,  17,\n",
      "             48, 146,  92,  72,  23],\n",
      "           dtype='int64')\n"
     ]
    },
    {
     "data": {
      "text/html": [
       "<div>\n",
       "<style scoped>\n",
       "    .dataframe tbody tr th:only-of-type {\n",
       "        vertical-align: middle;\n",
       "    }\n",
       "\n",
       "    .dataframe tbody tr th {\n",
       "        vertical-align: top;\n",
       "    }\n",
       "\n",
       "    .dataframe thead th {\n",
       "        text-align: right;\n",
       "    }\n",
       "</style>\n",
       "<table border=\"1\" class=\"dataframe\">\n",
       "  <thead>\n",
       "    <tr style=\"text-align: right;\">\n",
       "      <th></th>\n",
       "      <th>sepal_length</th>\n",
       "      <th>sepal_width</th>\n",
       "      <th>petal_length</th>\n",
       "      <th>petal_width</th>\n",
       "      <th>class</th>\n",
       "      <th>target</th>\n",
       "    </tr>\n",
       "  </thead>\n",
       "  <tbody>\n",
       "    <tr>\n",
       "      <th>27</th>\n",
       "      <td>5.2</td>\n",
       "      <td>3.5</td>\n",
       "      <td>1.5</td>\n",
       "      <td>0.2</td>\n",
       "      <td>Iris-setosa</td>\n",
       "      <td>1</td>\n",
       "    </tr>\n",
       "    <tr>\n",
       "      <th>100</th>\n",
       "      <td>6.3</td>\n",
       "      <td>3.3</td>\n",
       "      <td>6.0</td>\n",
       "      <td>2.5</td>\n",
       "      <td>Iris-virginica</td>\n",
       "      <td>0</td>\n",
       "    </tr>\n",
       "    <tr>\n",
       "      <th>2</th>\n",
       "      <td>4.7</td>\n",
       "      <td>3.2</td>\n",
       "      <td>1.3</td>\n",
       "      <td>0.2</td>\n",
       "      <td>Iris-setosa</td>\n",
       "      <td>1</td>\n",
       "    </tr>\n",
       "    <tr>\n",
       "      <th>8</th>\n",
       "      <td>4.4</td>\n",
       "      <td>2.9</td>\n",
       "      <td>1.4</td>\n",
       "      <td>0.2</td>\n",
       "      <td>Iris-setosa</td>\n",
       "      <td>1</td>\n",
       "    </tr>\n",
       "    <tr>\n",
       "      <th>128</th>\n",
       "      <td>6.4</td>\n",
       "      <td>2.8</td>\n",
       "      <td>5.6</td>\n",
       "      <td>2.1</td>\n",
       "      <td>Iris-virginica</td>\n",
       "      <td>0</td>\n",
       "    </tr>\n",
       "    <tr>\n",
       "      <th>...</th>\n",
       "      <td>...</td>\n",
       "      <td>...</td>\n",
       "      <td>...</td>\n",
       "      <td>...</td>\n",
       "      <td>...</td>\n",
       "      <td>...</td>\n",
       "    </tr>\n",
       "    <tr>\n",
       "      <th>50</th>\n",
       "      <td>7.0</td>\n",
       "      <td>3.2</td>\n",
       "      <td>4.7</td>\n",
       "      <td>1.4</td>\n",
       "      <td>Iris-versicolor</td>\n",
       "      <td>0</td>\n",
       "    </tr>\n",
       "    <tr>\n",
       "      <th>3</th>\n",
       "      <td>4.6</td>\n",
       "      <td>3.1</td>\n",
       "      <td>1.5</td>\n",
       "      <td>0.2</td>\n",
       "      <td>Iris-setosa</td>\n",
       "      <td>1</td>\n",
       "    </tr>\n",
       "    <tr>\n",
       "      <th>96</th>\n",
       "      <td>5.7</td>\n",
       "      <td>2.9</td>\n",
       "      <td>4.2</td>\n",
       "      <td>1.3</td>\n",
       "      <td>Iris-versicolor</td>\n",
       "      <td>0</td>\n",
       "    </tr>\n",
       "    <tr>\n",
       "      <th>118</th>\n",
       "      <td>7.7</td>\n",
       "      <td>2.6</td>\n",
       "      <td>6.9</td>\n",
       "      <td>2.3</td>\n",
       "      <td>Iris-virginica</td>\n",
       "      <td>0</td>\n",
       "    </tr>\n",
       "    <tr>\n",
       "      <th>6</th>\n",
       "      <td>4.6</td>\n",
       "      <td>3.4</td>\n",
       "      <td>1.4</td>\n",
       "      <td>0.3</td>\n",
       "      <td>Iris-setosa</td>\n",
       "      <td>1</td>\n",
       "    </tr>\n",
       "  </tbody>\n",
       "</table>\n",
       "<p>105 rows × 6 columns</p>\n",
       "</div>"
      ],
      "text/plain": [
       "     sepal_length  sepal_width  petal_length  petal_width            class  \\\n",
       "27            5.2          3.5           1.5          0.2      Iris-setosa   \n",
       "100           6.3          3.3           6.0          2.5   Iris-virginica   \n",
       "2             4.7          3.2           1.3          0.2      Iris-setosa   \n",
       "8             4.4          2.9           1.4          0.2      Iris-setosa   \n",
       "128           6.4          2.8           5.6          2.1   Iris-virginica   \n",
       "..            ...          ...           ...          ...              ...   \n",
       "50            7.0          3.2           4.7          1.4  Iris-versicolor   \n",
       "3             4.6          3.1           1.5          0.2      Iris-setosa   \n",
       "96            5.7          2.9           4.2          1.3  Iris-versicolor   \n",
       "118           7.7          2.6           6.9          2.3   Iris-virginica   \n",
       "6             4.6          3.4           1.4          0.3      Iris-setosa   \n",
       "\n",
       "     target  \n",
       "27        1  \n",
       "100       0  \n",
       "2         1  \n",
       "8         1  \n",
       "128       0  \n",
       "..      ...  \n",
       "50        0  \n",
       "3         1  \n",
       "96        0  \n",
       "118       0  \n",
       "6         1  \n",
       "\n",
       "[105 rows x 6 columns]"
      ]
     },
     "execution_count": 3,
     "metadata": {},
     "output_type": "execute_result"
    }
   ],
   "source": [
    "n = len(data.index)\n",
    "idxs = np.arange(n)\n",
    "# random the index of the data so we that we can retrieve randomize order data\n",
    "np.random.shuffle(idxs)\n",
    "\n",
    "# specify the ratio of each data type \n",
    "train_ratio = 0.7\n",
    "val_ratio = 0.1\n",
    "test_ratio = 0.2\n",
    "\n",
    "train_data = data.iloc[idxs[:int(train_ratio*n)]]\n",
    "val_data = data.iloc[idxs[int(train_ratio*n):int((train_ratio+val_ratio)*n)]]\n",
    "test_data = data.iloc[idxs[int((train_ratio+val_ratio)*n):]]\n",
    "\n",
    "# check the index of the data, we can see that the index are already shuffle \n",
    "print(train_data.index)\n",
    "print(val_data.index)\n",
    "print(test_data.index)\n",
    "\n",
    "train_data\n"
   ]
  },
  {
   "cell_type": "markdown",
   "metadata": {},
   "source": [
    "## Question 4\n",
    "\n",
    "Using the linear regression model you created in the previous lecture, transform it into a logistic regressor by applying the logistic function to the output\n",
    "of the model. The loss function for this model should be binary cross entropy.\n",
    "\n",
    "Select two columns from the Iris dataset (i.e. petal length and petal width), and using these two columns, train a logistic regressor using gradient descent, measuring the gradient using finite differences approximation."
   ]
  },
  {
   "cell_type": "code",
   "execution_count": 4,
   "metadata": {},
   "outputs": [
    {
     "data": {
      "image/png": "[encoded data removed]",
      "text/plain": [
       "<Figure size 1000x500 with 4 Axes>"
      ]
     },
     "metadata": {},
     "output_type": "display_data"
    }
   ],
   "source": [
    "# plot the graph of each feature\n",
    "n_collumn = 2\n",
    "n_row = 2\n",
    "fig, ax = plt.subplots(n_row, n_collumn,figsize=(10,5))\n",
    "fig.tight_layout()\n",
    "\n",
    "for i,value in enumerate(list(data.columns)[:-2]):\n",
    "    axis = ax[i//n_collumn][i%n_collumn]\n",
    "    # plot only train data since validation and testing data will be used only to evaluate the model (assume that we only know the distribution of training data)\n",
    "    axis.scatter(train_data[value], train_data[\"target\"], s=20)\n",
    "    \n",
    "    # set range of the graphaa\n",
    "    start, end = axis.get_xlim()\n",
    "    axis.set_xticks(np.arange(start,end,(end-start)/10))\n",
    "    axis.title.set_text(value)\n",
    "\n",
    "plt.show()"
   ]
  },
  {
   "cell_type": "markdown",
   "metadata": {},
   "source": [
    "choose petal_length and petal_width as a feature for binary classification since the plot show that the output seems to be linearly separable"
   ]
  },
  {
   "cell_type": "code",
   "execution_count": 5,
   "metadata": {},
   "outputs": [
    {
     "name": "stdout",
     "output_type": "stream",
     "text": [
      "(105, 2)\n",
      "(105,)\n"
     ]
    }
   ],
   "source": [
    "# selected the 2 collumns that will be used for classification algorithm\n",
    "selected_collumns = [\"petal_length\",\"petal_width\"]\n",
    "# selected_collumns = [\"sepal_length\",\"sepal_width\"]\n",
    "\n",
    "# convert the data from pandas to numpy array\n",
    "train_x = train_data[selected_collumns].to_numpy()\n",
    "train_y = train_data[\"target\"].to_numpy()\n",
    "valid_x = val_data[selected_collumns].to_numpy()\n",
    "valid_y = val_data[\"target\"].to_numpy()\n",
    "\n",
    "# check the dimension of the data \n",
    "print(train_x.shape)\n",
    "print(train_y.shape)"
   ]
  },
  {
   "cell_type": "markdown",
   "metadata": {},
   "source": [
    "Derived the equation of loss function and logistic equation \n",
    "\n",
    "$$ z = \\beta_0 + \\sum_{i=1}^{m}{\\beta_i x_i} $$\n",
    "$$ \\sigma(z) = \\frac{1}{1+e^{-z}} $$\n",
    "$$ \\hat{y} = \\sigma(\\beta_0 + \\sum_{i=1}^{m}{\\beta_i x_i}) $$\n",
    "\n",
    "\n",
    "$$L = -\\frac{1}{n}\\sum_i^n y_i \\log(\\hat{y_i}) + (1-y_i) \\log(1-\\hat{y_i})$$\n",
    "\n",
    "----------------------------------------------------------------------------------------------\n",
    "\n",
    "Calculated the gradient of cross entropy loss for gradient descent using finite differentiation \n",
    "\n",
    "\n",
    "$$\\beta_{[t+1]} = \\beta_{[t]} - \\eta \\frac{\\partial L(x,y;\\beta)}{\\partial \\beta}$$\n",
    "\n",
    "$$\\frac{\\partial L}{\\partial \\beta_i} = \\frac{L(x,y;\\beta_i + \\epsilon, \\beta) - L(x,y;\\beta_i, \\beta)}{\\beta_i + \\epsilon - \\beta_i} =\n",
    "\\frac{L(x,y;\\beta_i + \\epsilon, \\beta) - L(x,y;\\beta_i, \\beta)}{\\epsilon} \n",
    "$$\n",
    "\n",
    "\n",
    "<!-- $$\\frac{\\partial L}{\\partial \\beta} = \\frac{\\partial{L}}{\\partial{\\hat{y}}} \\frac{\\partial{\\hat{y}}}{\\partial{z}} \\frac{\\partial{z}}{\\partial{\\beta}}$$\n",
    "\n",
    "$$\\frac{\\partial L}{\\partial \\beta} = \\left(-\\frac{1}{n}\\sum_i^n \\frac{y_i}{\\hat{y_i}} - \\frac{(1-y_i)}{1-\\hat{y_i}}\\right) \\left(\\frac{e^{-z}}{(1+e^{-z})^2}\\right) \n",
    "\\begin{bmatrix} 1 \\\\ \\vec{x}\\end{bmatrix}$$\n",
    "\n",
    "$$\\frac{\\partial L}{\\partial \\beta} = \\left(\\frac{1}{n}\\sum_i^n \\frac{(1-y_i)}{1-\\hat{y_i}} - \\frac{y_i}{\\hat{y_i}}\\right) \\left(e^{-z}\\hat{y}^2\\right) \n",
    "\\begin{bmatrix} 1 \\\\ \\vec{x}\\end{bmatrix}$$\n",
    "\n",
    "$$\\frac{\\partial L}{\\partial \\beta} = \\frac{1}{n}\\sum_i^n \\left(\\frac{(1-y_i)}{1-\\hat{y_i}} - \\frac{y_i}{\\hat{y_i}}\\right) \\left(e^{-z}\\hat{y_i}^2\\right) \n",
    "\\begin{bmatrix} 1 \\\\ \\vec{x_i}\\end{bmatrix}$$ -->"
   ]
  },
  {
   "cell_type": "code",
   "execution_count": 6,
   "metadata": {},
   "outputs": [],
   "source": [
    "class LogisticRegressor:\n",
    "    def __init__(self, n_features: int = 2):\n",
    "        self._n_features = n_features\n",
    "        self.params = np.random.randn(n_features + 1)\n",
    "\n",
    "    @staticmethod\n",
    "    def logistic(x):\n",
    "        # TODO: apply the logistic function\n",
    "        return 1/(1 + np.exp(-1*x))\n",
    "    \n",
    "    def __call__(self, x, logits=False):\n",
    "        # assert np.shape(x) == (self._n_features,), \"Wrong input dimension or input is not numpy array\"\n",
    "        y = self.params[0] + self.params[1:] @ x.T\n",
    "        if not logits:\n",
    "            y = LogisticRegressor.logistic(y)\n",
    "        return y\n",
    "    \n",
    "    def predict(self, x, thresh=0.5):\n",
    "        # get the class using the given threshold\n",
    "        if x.ndim == 2:\n",
    "            return np.array([1 if self(i) > thresh else 0 for i in x])\n",
    "        else:\n",
    "            return 1 if self(i) > thresh else 0\n",
    "\n",
    "    @staticmethod\n",
    "    def bce(y, y_hat):\n",
    "        # TODO: apply the binary cross entropy function returning the loss\n",
    "        return np.mean(-1*((1-y)*np.log(1-y_hat) + y*np.log(y_hat)), axis=y.ndim-1)\n",
    "    \n",
    "    def loss(self, x, y, eps=1e-4):\n",
    "        # calculate loss and gradient in vectorization form \n",
    "        params = np.repeat(np.array([self.params]), len(self.params), axis=0) + eps*np.identity(len(self.params))\n",
    "        y_npe = LogisticRegressor.logistic(np.array([params[:,0]]).T + params[:,1:] @ x.T)\n",
    "        L_npe = LogisticRegressor.bce(np.repeat(np.array([y]), len(self.params), axis=0), y_npe)\n",
    "        \n",
    "        y_n = LogisticRegressor.logistic(self.params[0] + self.params[1:] @ x.T)\n",
    "        y_n = np.repeat(np.array([y_n]), len(self.params), axis=0) \n",
    "        L_n = LogisticRegressor.bce(np.repeat(np.array([y]), len(self.params), axis=0), y_n)\n",
    "        \n",
    "        return (L_npe - L_n)/eps, L_n[0]\n",
    "\n",
    "        \n",
    "    def fit(self, train_x, train_y, valid_x, valid_y, epochs: int = 100, lr: float = 0.01):\n",
    "        # TODO: train the model using gradient descent and finite-differences\n",
    "        train_loss = []\n",
    "        valid_loss = []\n",
    "\n",
    "        for _ in range(1, epochs+1):\n",
    "            grad, loss = self.loss(train_x, train_y)\n",
    "            self.params -= lr*grad\n",
    "\n",
    "            # calculate training loss\n",
    "            train_loss.append(loss)    \n",
    "            # calculate validation loss (BUT DON'T UPDATE MODEL PARAMETERS!)\n",
    "            valid_y_pred = self(valid_x)   \n",
    "            valid_loss.append(self.bce(valid_y, valid_y_pred))  \n",
    "        \n",
    "        return train_loss, valid_loss\n",
    "    \n",
    "    def plotLoss(self, train_loss, valid_loss):\n",
    "        # function for plotting training, validation loss (y-axis) and epoches (x-axis)\n",
    "        epochs = len(train_loss)\n",
    "        plt.plot(range(1,epochs+1), train_loss, label=\"train\")\n",
    "        plt.plot(range(1,epochs+1), valid_loss, label=\"validation\")      \n",
    "        plt.xlabel(\"epoch\")\n",
    "        plt.ylabel(\"loss\")\n",
    "        plt.legend(loc='best')\n",
    "        plt.show()"
   ]
  },
  {
   "cell_type": "code",
   "execution_count": 7,
   "metadata": {},
   "outputs": [],
   "source": [
    "lg = LogisticRegressor(2)\n",
    "# trainning the logistic regression \n",
    "train_loss, valid_loss = lg.fit(train_x,train_y,valid_x,valid_y,epochs=1000,lr=2e-1)"
   ]
  },
  {
   "cell_type": "markdown",
   "metadata": {},
   "source": [
    "## Question 5\n",
    "\n",
    "As gradient descent is iterating, store (using class variables), the training and validation loss. \n",
    "\n",
    "Visualise the training and validation loss. Is there a point at which the model begins to over fit? How do you know that the model is beginning to overfit by looking at these curves?\n",
    "\n"
   ]
  },
  {
   "cell_type": "code",
   "execution_count": 8,
   "metadata": {},
   "outputs": [
    {
     "data": {
      "image/png": "[encoded data removed]",
      "text/plain": [
       "<Figure size 640x480 with 1 Axes>"
      ]
     },
     "metadata": {},
     "output_type": "display_data"
    }
   ],
   "source": [
    "lg.plotLoss(train_loss, valid_loss)"
   ]
  },
  {
   "cell_type": "markdown",
   "metadata": {},
   "source": [
    "- The model begin to fit when the training loss is starting to decrease (or try to converge to zero) \n",
    "- Typically, the model will be overfitting after the validation loss diverge from the training loss.\n",
    "\n",
    "(Usually at first, both the training loss and validation loss will try to converge to zero, then, if it's overfitting the validation loss will start to diverge but training loss still converge to zero. This imply that the model try to fit into the traning data so much to the extent that resulting in poor validation data loss) "
   ]
  },
  {
   "cell_type": "markdown",
   "metadata": {},
   "source": [
    "## Question 6\n",
    "\n",
    "Predict the class labels for the testing set."
   ]
  },
  {
   "cell_type": "code",
   "execution_count": 9,
   "metadata": {},
   "outputs": [
    {
     "name": "stdout",
     "output_type": "stream",
     "text": [
      "True positive (TP) :  12\n",
      "True negative (TN) :  19\n",
      "False positive (FP) :  0\n",
      "False negative (FN) :  0\n"
     ]
    }
   ],
   "source": [
    "test_x = test_data[selected_collumns].to_numpy()\n",
    "test_y = test_data[\"target\"].to_numpy()\n",
    "\n",
    "def getEvalMat(y_label, y_pred, is_print=False):\n",
    "    y_pred = y_pred.astype(bool)\n",
    "    y_label = y_label.astype(bool)\n",
    "    # predict class 1 correct\n",
    "    TP = np.sum(y_pred & y_label)\n",
    "    # predict class 0 correct\n",
    "    TN = np.sum(~y_pred & ~y_label)\n",
    "    # predict class 1 but actual class is 0\n",
    "    FP = np.sum(y_pred & ~y_label)\n",
    "    # predict class 0 but actual class is 1\n",
    "    FN = np.sum(~y_pred & y_label)\n",
    "    \n",
    "    if is_print:\n",
    "        print(\"True positive (TP) : \", TP)\n",
    "        print(\"True negative (TN) : \", TN)\n",
    "        print(\"False positive (FP) : \", FP)\n",
    "        print(\"False negative (FN) : \", FN)\n",
    "    \n",
    "    # return the hashmap of validation matrix \n",
    "    return {\"TP\":TP,\"TN\":TN,\"FP\":FP,\"FN\":FN}\n",
    "\n",
    "y_label = test_y\n",
    "y_pred = lg.predict(test_x)\n",
    "\n",
    "mat = getEvalMat(y_label, y_pred, is_print=True)"
   ]
  },
  {
   "cell_type": "markdown",
   "metadata": {},
   "source": [
    "## Question 7\n",
    "\n",
    "Calculate the precision and recall and F1 score."
   ]
  },
  {
   "cell_type": "code",
   "execution_count": 10,
   "metadata": {},
   "outputs": [],
   "source": [
    "def precision(y, yhat):\n",
    "    # calculate the precision and return it\n",
    "    TP = np.sum(yhat & y)\n",
    "    FP = np.sum(yhat & ~y)\n",
    "    return TP/(TP+FP)\n",
    "\n",
    "def recall(y, yhat):\n",
    "    # calculate the recall and return it\n",
    "    TP = np.sum(yhat & y)\n",
    "    FN = np.sum(~yhat & y)\n",
    "    return TP/(TP+FN)\n",
    "\n",
    "def f_beta(y, yhat, beta=1):\n",
    "    pr = precision(y, yhat)\n",
    "    rc = recall(y, yhat)\n",
    "    # calculate the f_beta score and return it\n",
    "    return (1+beta**2)*pr*rc/(beta**2*pr+rc)"
   ]
  },
  {
   "cell_type": "code",
   "execution_count": 11,
   "metadata": {},
   "outputs": [
    {
     "name": "stdout",
     "output_type": "stream",
     "text": [
      "1.0\n",
      "1.0\n",
      "1.0\n"
     ]
    }
   ],
   "source": [
    "print(precision(y_label,y_pred))\n",
    "print(recall(y_label,y_pred))\n",
    "print(f_beta(y_label,y_pred))\n"
   ]
  },
  {
   "cell_type": "markdown",
   "metadata": {},
   "source": [
    "## Question 8\n",
    "Generate a report using the precision, recall and F1 and confusion matrix.\n"
   ]
  },
  {
   "cell_type": "code",
   "execution_count": 12,
   "metadata": {},
   "outputs": [
    {
     "name": "stdout",
     "output_type": "stream",
     "text": [
      "|        |          | Predicted |          |\n",
      "|        |          |  Positive | Negative |\n",
      "| Actual | Positive |        12 |        0 |\n",
      "|        | Negative |         0 |       19 |\n",
      "- Precision: 1.00\n",
      "- Recall: 1.00\n",
      "- F_1 Score: 1.00\n"
     ]
    }
   ],
   "source": [
    "def display(y_label,y_pred):\n",
    "    mat = getEvalMat(y_label, y_pred, is_print=False)\n",
    "    pr = precision(y_label,y_pred)\n",
    "    rc = recall(y_label,y_pred)\n",
    "    f1 = f_beta(y_label,y_pred)\n",
    "\n",
    "    text_label = [\"Predicted\", \"Actual\"]\n",
    "    text_pn = [\"Positive\", \"Negative\"]\n",
    "\n",
    "    print(\"| \" + \" \"*len(text_label[1]) + \" | \" + \" \"*len(text_pn[0]) + \" | \" + text_label[0]                                                   + \" | \" + \" \"*len(text_pn[1])                                          + \" |\")\n",
    "    print(\"| \" + \" \"*len(text_label[1]) + \" | \" + \" \"*len(text_pn[0]) + \" | \" + \" \"*(len(text_label[0]) - len(text_pn[0])) + text_pn[0]         + \" | \" + text_pn[1]                                                   + \" |\") \n",
    "    print(\"| \" + text_label[1]          + \" | \" + text_pn[0]          + \" | \" + \" \"*(len(text_label[0]) - len(str(mat[\"TP\"]))) + str(mat[\"TP\"]) + \" | \" + \" \"*(len(text_pn[1]) - len(str(mat[\"FN\"]))) + str(mat[\"FN\"]) + \" |\") \n",
    "    print(\"| \" + \" \"*len(text_label[1]) + \" | \" + text_pn[1]          + \" | \" + \" \"*(len(text_label[0]) - len(str(mat[\"FP\"]))) + str(mat[\"FP\"]) + \" | \" + \" \"*(len(text_pn[1]) - len(str(mat[\"TN\"]))) + str(mat[\"TN\"]) + \" |\") \n",
    "    print(\"- Precision: %.2f\"%pr)\n",
    "    print(\"- Recall: %.2f\"%rc)\n",
    "    print(\"- F_1 Score: %.2f\"%f1)\n",
    "\n",
    "display(y_label, y_pred)"
   ]
  },
  {
   "cell_type": "markdown",
   "metadata": {},
   "source": [
    "## Question 9\n",
    "Calculate the true-positive and false positive rate, and from these values\n",
    "generate a ROC curve.\n"
   ]
  },
  {
   "cell_type": "code",
   "execution_count": 13,
   "metadata": {},
   "outputs": [
    {
     "data": {
      "text/plain": [
       "[]"
      ]
     },
     "execution_count": 13,
     "metadata": {},
     "output_type": "execute_result"
    },
    {
     "data": {
      "image/png": "[encoded data removed]",
      "text/plain": [
       "<Figure size 640x480 with 1 Axes>"
      ]
     },
     "metadata": {},
     "output_type": "display_data"
    }
   ],
   "source": [
    "def sensitivity(y, yhat):\n",
    "    TP = np.sum(yhat.astype(bool) & y.astype(bool))\n",
    "    FN = np.sum(~yhat.astype(bool) & y.astype(bool))\n",
    "    return TP/(TP+FN)\n",
    "\n",
    "def specifiity(y, yhat):\n",
    "    TN = np.sum(~yhat.astype(bool) & ~y.astype(bool))\n",
    "    FP = np.sum(yhat.astype(bool) & ~y.astype(bool))\n",
    "    return TN/(TN+FP)\n",
    "\n",
    "y = test_y\n",
    "yhat = lg(test_x)\n",
    "\n",
    "def roc(y, yhat, threshold_step=0.005):\n",
    "    # iteratively increase the threshold by threshold_step,\n",
    "    # calculating the TP and FP rate for each iteration. This function\n",
    "    # should return two lists, a list of TP rates, and a list of FP\n",
    "    # rates.\n",
    "    tp = []\n",
    "    fp = []\n",
    "    for thresh in np.arange(0,1,threshold_step):\n",
    "        yhat_thresh = np.array([1 if yhat_i > thresh else 0 for yhat_i in yhat])\n",
    "        sen = sensitivity(y, yhat_thresh)\n",
    "        spec = specifiity(y, yhat_thresh)\n",
    "        tp.append(sen)\n",
    "        fp.append(1-spec)\n",
    "        \n",
    "    return tp, fp\n",
    "\n",
    "tp, fp = roc(y, yhat)\n",
    "\n",
    "plt.plot(fp,tp)\n",
    "plt.plot()"
   ]
  },
  {
   "cell_type": "markdown",
   "metadata": {},
   "source": [
    "calculate area under curve (AUC)"
   ]
  },
  {
   "cell_type": "code",
   "execution_count": 14,
   "metadata": {},
   "outputs": [
    {
     "name": "stdout",
     "output_type": "stream",
     "text": [
      "1.0\n"
     ]
    }
   ],
   "source": [
    "def auc(y, yhat):\n",
    "    tp, fp = roc(y, yhat)\n",
    "    # find unique array to reduce number of point before computation\n",
    "    yx = np.unique(np.array([tp,fp]).T, axis=0)\n",
    "    # calculate area of trepizoid using 0.5*(y_2+y_1)*(x_2-x_1)\n",
    "    return 0.5*(yx[1:,0] + yx[:-1,0]) @ (yx[1:,1] - yx[:-1,1]).T\n",
    "\n",
    "print(auc(y, yhat))"
   ]
  },
  {
   "cell_type": "markdown",
   "metadata": {},
   "source": [
    "## Question 10\n",
    "Now that you’ve created a logistic classifier for two features of the Iris dataset\n",
    "and have created some analytic results. Select another two columns (i.e.\n",
    "petal width and sepal length, or petal length and sepal width). Create\n",
    "a different logistic classifier using these new columns and create the same\n",
    "results as you did with questions 8 and 9.\n",
    "Compare these two models trained with different columns. Which model\n",
    "is best, and why do we know that it’s the best?"
   ]
  },
  {
   "cell_type": "code",
   "execution_count": 15,
   "metadata": {},
   "outputs": [],
   "source": [
    "selected_collumns = [\"sepal_length\",\"sepal_width\"]\n",
    "\n",
    "train_x = train_data[selected_collumns].to_numpy()\n",
    "train_y = train_data[\"target\"].to_numpy()\n",
    "valid_x = val_data[selected_collumns].to_numpy()\n",
    "valid_y = val_data[\"target\"].to_numpy()\n",
    "test_x = test_data[selected_collumns].to_numpy()\n",
    "test_y = test_data[\"target\"].to_numpy()"
   ]
  },
  {
   "cell_type": "markdown",
   "metadata": {},
   "source": [
    "Create new logistic regression object and feed new dataset by selected \"sepal_length\" and \"sepal_width\" as a feature."
   ]
  },
  {
   "cell_type": "code",
   "execution_count": 16,
   "metadata": {},
   "outputs": [
    {
     "data": {
      "image/png": "[encoded data removed]",
      "text/plain": [
       "<Figure size 640x480 with 1 Axes>"
      ]
     },
     "metadata": {},
     "output_type": "display_data"
    }
   ],
   "source": [
    "lg2 = LogisticRegressor(2)\n",
    "train_loss, valid_loss = lg2.fit(train_x,train_y,valid_x,valid_y,epochs=1000,lr=2e-1)\n",
    "lg2.plotLoss(train_loss, valid_loss)"
   ]
  },
  {
   "cell_type": "markdown",
   "metadata": {},
   "source": [
    "display evaluation matrix, precision, recall and F_1 score. The recall and F_1 score are sligthly worst than the previous model"
   ]
  },
  {
   "cell_type": "code",
   "execution_count": 17,
   "metadata": {},
   "outputs": [
    {
     "name": "stdout",
     "output_type": "stream",
     "text": [
      "|        |          | Predicted |          |\n",
      "|        |          |  Positive | Negative |\n",
      "| Actual | Positive |        11 |        1 |\n",
      "|        | Negative |         0 |       19 |\n",
      "- Precision: 1.00\n",
      "- Recall: 0.92\n",
      "- F_1 Score: 0.96\n"
     ]
    }
   ],
   "source": [
    "y_label = test_y\n",
    "y_pred = lg2.predict(test_x)\n",
    "display(y_label, y_pred)"
   ]
  },
  {
   "cell_type": "code",
   "execution_count": 18,
   "metadata": {},
   "outputs": [
    {
     "data": {
      "text/plain": [
       "[]"
      ]
     },
     "execution_count": 18,
     "metadata": {},
     "output_type": "execute_result"
    },
    {
     "data": {
      "image/png": "[encoded data removed]",
      "text/plain": [
       "<Figure size 640x480 with 1 Axes>"
      ]
     },
     "metadata": {},
     "output_type": "display_data"
    }
   ],
   "source": [
    "y = test_y\n",
    "yhat = lg2(test_x)\n",
    "\n",
    "tp, fp = roc(y, yhat)\n",
    "plt.plot(fp,tp)\n",
    "plt.plot()"
   ]
  },
  {
   "cell_type": "markdown",
   "metadata": {},
   "source": [
    "The AUC and ROC curve show that the first model that use \"petal_length\" and \"petal_width\" shows slightly better AUC score compare to the model train using \"sepal_length\" and \"sepal_width\" as a feature. This indicate that we should use the first model to predict the target (in fact the change in ROC and AUC is not that significant due to the amount of testing data that we used)"
   ]
  },
  {
   "cell_type": "code",
   "execution_count": 19,
   "metadata": {},
   "outputs": [
    {
     "name": "stdout",
     "output_type": "stream",
     "text": [
      "0.9956140350877193\n"
     ]
    }
   ],
   "source": [
    "print(auc(y, yhat))"
   ]
  },
  {
   "cell_type": "code",
   "execution_count": null,
   "metadata": {},
   "outputs": [],
   "source": []
  }
 ],
 "metadata": {
  "kernelspec": {
   "display_name": "Python 3 (ipykernel)",
   "language": "python",
   "name": "python3"
  },
  "language_info": {
   "codemirror_mode": {
    "name": "ipython",
    "version": 3
   },
   "file_extension": ".py",
   "mimetype": "text/x-python",
   "name": "python",
   "nbconvert_exporter": "python",
   "pygments_lexer": "ipython3",
   "version": "3.8.15"
  },
  "vscode": {
   "interpreter": {
    "hash": "d8b18ab450570e2a021080f8b7ded4608ea52df6d459998def1a0c7bee6beb83"
   }
  }
 },
 "nbformat": 4,
 "nbformat_minor": 2
}
