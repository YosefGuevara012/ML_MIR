{
 "cells": [
  {
   "cell_type": "markdown",
   "id": "77d402d9",
   "metadata": {},
   "source": [
    "### 2.2 Question 2\n",
    "\n",
    "Download the Iris dataset from https://archive.ics.uci.edu/ml/machine-learning-databases/iris/. The dataset can be downloaded from iris.data. Load the data into a pandas dataframe.\n",
    "For this lab, we’re going to be performing a binary classification problem,\n",
    "but this dataset has 3 classes: setosa, virginica, and versicolor. So we want\n",
    "to take this multi-class problem and transform it into a binary classification.\n",
    "Create a new column for the dataset called target. The value of target\n",
    "will be 1 if the row contains a setosa flower, else the value is $0$. There should\n",
    "be $\\frac{1}{3}$ rows with the value of $1$, the rest should be $0$."
   ]
  },
  {
   "cell_type": "code",
   "execution_count": 7,
   "id": "22f45ca1",
   "metadata": {},
   "outputs": [
    {
     "data": {
      "text/html": [
       "<div>\n",
       "<style scoped>\n",
       "    .dataframe tbody tr th:only-of-type {\n",
       "        vertical-align: middle;\n",
       "    }\n",
       "\n",
       "    .dataframe tbody tr th {\n",
       "        vertical-align: top;\n",
       "    }\n",
       "\n",
       "    .dataframe thead th {\n",
       "        text-align: right;\n",
       "    }\n",
       "</style>\n",
       "<table border=\"1\" class=\"dataframe\">\n",
       "  <thead>\n",
       "    <tr style=\"text-align: right;\">\n",
       "      <th></th>\n",
       "      <th>Sepal_Length</th>\n",
       "      <th>Sepal_Width</th>\n",
       "      <th>Petal_Length</th>\n",
       "      <th>Petal_Width</th>\n",
       "      <th>Species</th>\n",
       "      <th>target</th>\n",
       "    </tr>\n",
       "  </thead>\n",
       "  <tbody>\n",
       "    <tr>\n",
       "      <th>0</th>\n",
       "      <td>5.1</td>\n",
       "      <td>3.5</td>\n",
       "      <td>1.4</td>\n",
       "      <td>0.2</td>\n",
       "      <td>Iris-setosa</td>\n",
       "      <td>1</td>\n",
       "    </tr>\n",
       "    <tr>\n",
       "      <th>1</th>\n",
       "      <td>4.9</td>\n",
       "      <td>3.0</td>\n",
       "      <td>1.4</td>\n",
       "      <td>0.2</td>\n",
       "      <td>Iris-setosa</td>\n",
       "      <td>1</td>\n",
       "    </tr>\n",
       "    <tr>\n",
       "      <th>2</th>\n",
       "      <td>4.7</td>\n",
       "      <td>3.2</td>\n",
       "      <td>1.3</td>\n",
       "      <td>0.2</td>\n",
       "      <td>Iris-setosa</td>\n",
       "      <td>1</td>\n",
       "    </tr>\n",
       "    <tr>\n",
       "      <th>3</th>\n",
       "      <td>4.6</td>\n",
       "      <td>3.1</td>\n",
       "      <td>1.5</td>\n",
       "      <td>0.2</td>\n",
       "      <td>Iris-setosa</td>\n",
       "      <td>1</td>\n",
       "    </tr>\n",
       "    <tr>\n",
       "      <th>4</th>\n",
       "      <td>5.0</td>\n",
       "      <td>3.6</td>\n",
       "      <td>1.4</td>\n",
       "      <td>0.2</td>\n",
       "      <td>Iris-setosa</td>\n",
       "      <td>1</td>\n",
       "    </tr>\n",
       "    <tr>\n",
       "      <th>...</th>\n",
       "      <td>...</td>\n",
       "      <td>...</td>\n",
       "      <td>...</td>\n",
       "      <td>...</td>\n",
       "      <td>...</td>\n",
       "      <td>...</td>\n",
       "    </tr>\n",
       "    <tr>\n",
       "      <th>145</th>\n",
       "      <td>6.7</td>\n",
       "      <td>3.0</td>\n",
       "      <td>5.2</td>\n",
       "      <td>2.3</td>\n",
       "      <td>Iris-virginica</td>\n",
       "      <td>0</td>\n",
       "    </tr>\n",
       "    <tr>\n",
       "      <th>146</th>\n",
       "      <td>6.3</td>\n",
       "      <td>2.5</td>\n",
       "      <td>5.0</td>\n",
       "      <td>1.9</td>\n",
       "      <td>Iris-virginica</td>\n",
       "      <td>0</td>\n",
       "    </tr>\n",
       "    <tr>\n",
       "      <th>147</th>\n",
       "      <td>6.5</td>\n",
       "      <td>3.0</td>\n",
       "      <td>5.2</td>\n",
       "      <td>2.0</td>\n",
       "      <td>Iris-virginica</td>\n",
       "      <td>0</td>\n",
       "    </tr>\n",
       "    <tr>\n",
       "      <th>148</th>\n",
       "      <td>6.2</td>\n",
       "      <td>3.4</td>\n",
       "      <td>5.4</td>\n",
       "      <td>2.3</td>\n",
       "      <td>Iris-virginica</td>\n",
       "      <td>0</td>\n",
       "    </tr>\n",
       "    <tr>\n",
       "      <th>149</th>\n",
       "      <td>5.9</td>\n",
       "      <td>3.0</td>\n",
       "      <td>5.1</td>\n",
       "      <td>1.8</td>\n",
       "      <td>Iris-virginica</td>\n",
       "      <td>0</td>\n",
       "    </tr>\n",
       "  </tbody>\n",
       "</table>\n",
       "<p>150 rows × 6 columns</p>\n",
       "</div>"
      ],
      "text/plain": [
       "     Sepal_Length  Sepal_Width  Petal_Length  Petal_Width         Species  \\\n",
       "0             5.1          3.5           1.4          0.2     Iris-setosa   \n",
       "1             4.9          3.0           1.4          0.2     Iris-setosa   \n",
       "2             4.7          3.2           1.3          0.2     Iris-setosa   \n",
       "3             4.6          3.1           1.5          0.2     Iris-setosa   \n",
       "4             5.0          3.6           1.4          0.2     Iris-setosa   \n",
       "..            ...          ...           ...          ...             ...   \n",
       "145           6.7          3.0           5.2          2.3  Iris-virginica   \n",
       "146           6.3          2.5           5.0          1.9  Iris-virginica   \n",
       "147           6.5          3.0           5.2          2.0  Iris-virginica   \n",
       "148           6.2          3.4           5.4          2.3  Iris-virginica   \n",
       "149           5.9          3.0           5.1          1.8  Iris-virginica   \n",
       "\n",
       "     target  \n",
       "0         1  \n",
       "1         1  \n",
       "2         1  \n",
       "3         1  \n",
       "4         1  \n",
       "..      ...  \n",
       "145       0  \n",
       "146       0  \n",
       "147       0  \n",
       "148       0  \n",
       "149       0  \n",
       "\n",
       "[150 rows x 6 columns]"
      ]
     },
     "execution_count": 7,
     "metadata": {},
     "output_type": "execute_result"
    }
   ],
   "source": [
    "import pandas as pd\n",
    "import numpy as np\n",
    "\n",
    "# Defining the fielpath\n",
    "filepath = \"data\\iris.data\" \n",
    "\n",
    "def load_data(filepath):\n",
    "    \n",
    "    # This part reads the data and avoids to use the first row as the column name\n",
    "    df = pd.read_csv(filepath, header = None)\n",
    "    \n",
    "    # After that the column names for the Dataset are assigned\n",
    "    col_names = ['Sepal_Length','Sepal_Width','Petal_Length','Petal_Width','Species']\n",
    "    df.columns = col_names  \n",
    "    \n",
    "    # Then the column \"tareget\" is created and filled with ceros\n",
    "    df['target']  = 0\n",
    "    \n",
    "    # Then the values in \"target\" column are modified depending if the Specie is or not a Setosa\n",
    "    df.loc[df['Species'] == 'Iris-setosa', 'target'] = 1\n",
    "    \n",
    "    return df\n",
    "\n",
    "# The previous function is called\n",
    "iris  = load_data(filepath)\n",
    "iris"
   ]
  },
  {
   "cell_type": "markdown",
   "id": "c374e109",
   "metadata": {},
   "source": [
    "### 2.3 Question 3\n",
    "For this question we want to take this dataset of 150 rows, and split it into\n",
    "a train, test, and validation dataset, using the following proportions for each\n",
    "split:\n",
    "\n",
    "• Training: 70%\n",
    "\n",
    "• Validation: 10%\n",
    "\n",
    "• Testing: 20%\n",
    "\n",
    "Sample data for each subset using stratified sampling. I.e. the training data should have roughly $\\frac{1}{3}$\n",
    "positive samples, the testing and validation dataset should also have roughly $\\frac{1}{3}$ positive samples.\n"
   ]
  },
  {
   "cell_type": "code",
   "execution_count": 8,
   "id": "41d597eb",
   "metadata": {
    "scrolled": true
   },
   "outputs": [
    {
     "data": {
      "text/plain": [
       "Iris-setosa        50\n",
       "Iris-versicolor    50\n",
       "Iris-virginica     50\n",
       "Name: Species, dtype: int64"
      ]
     },
     "execution_count": 8,
     "metadata": {},
     "output_type": "execute_result"
    }
   ],
   "source": [
    "iris['Species'].value_counts()"
   ]
  },
  {
   "cell_type": "code",
   "execution_count": 9,
   "id": "37a28480",
   "metadata": {},
   "outputs": [],
   "source": [
    "def slipt_data(df, column):\n",
    "    \n",
    "    values = list(df[column].unique())\n",
    "    \n",
    "    training_set = pd.DataFrame()\n",
    "    testing_set = pd.DataFrame()\n",
    "    validation_set = pd.DataFrame()\n",
    "    \n",
    "    for value in values:\n",
    "        \n",
    "        data = df[df[column] == value]\n",
    "        train=data.sample(n = 35,random_state=42)\n",
    "        test=data.drop(train.index)\n",
    "        validation = test.sample(n=5,random_state=42)\n",
    "        test=test.drop(validation.index)\n",
    "        \n",
    "        training_set = pd.concat([training_set, train])\n",
    "        testing_set = pd.concat([testing_set, test])\n",
    "        validation_set = pd.concat([validation_set, validation])\n",
    "\n",
    "    return training_set, testing_set, validation_set"
   ]
  },
  {
   "cell_type": "code",
   "execution_count": 10,
   "id": "f80e0bc9",
   "metadata": {},
   "outputs": [],
   "source": [
    "training_set, testing_set, validation_set = slipt_data(iris, 'Species')"
   ]
  },
  {
   "cell_type": "markdown",
   "id": "c0601325",
   "metadata": {},
   "source": [
    "### 2.4 Question 4\n",
    "Using the linear regression model you created in the previous lecture, transform it into a logistic regressor by applying the logistic function to the output\n",
    "of the model. The loss function for this model should be binary cross entropy.\n",
    "\n",
    "Select two columns from the Iris dataset (i.e. petal length and petal\n",
    "width), and using these two columns, train a logistic regressor using gradient\n",
    "descent, measuring the gradient using finite differences approximation. This\n",
    "means that instead of having a single slope variable, we have multiple:\n",
    "\n",
    "$$\\hat{y} = \\sigma\\left (\\beta_{0} + \\sum_{i = 1}^{m}x_{i}\\beta_{i}\\right )$$\n",
    "\n",
    "\n",
    "where $\\hat{y}$ is the model’s probability prediction, $\\sigma$ is the logistic/sigmoid\n",
    "function, $\\beta_{0}$ is the intercept, $\\beta_{i}$\n",
    "is the coefficient that modulates the $X_{i}$ variable.\n",
    "\n",
    "I’ve made a start for you, please fill in the ’#TODOs’:"
   ]
  },
  {
   "cell_type": "code",
   "execution_count": null,
   "id": "de945911",
   "metadata": {},
   "outputs": [],
   "source": [
    "\n",
    "def bce(y, yhat):\n",
    "    # TODO: apply the binary cross entropy function returning the loss\n",
    "    \n",
    "    \n",
    "    return loss\n",
    "class LogisticRegressor:\n",
    "    def __init__(self, n_features: int = 2):\n",
    "    self.params = np.random.randn(n_features + 1)\n",
    "    def logistic(self, x):\n",
    "    # TODO: apply the logistic function\n",
    "    return x\n",
    "    def __call__(self, x, logits=False):\n",
    "    y = self.params[0] + self.params[1:] @ x.T\n",
    "    if not logits:\n",
    "    y = self.logistic(y)\n",
    "    return y\n",
    "    def fit(train_x, train_y, valid_x, valid_y, epochs: int = 100, lr: float = 0.01):\n",
    "    # TODO: train the model using gradient descent and finite-differences\n",
    "    for epoch in range(1, epochs+1):\n",
    "    for xi, yi in zip(train_x, train_y):\n",
    "    # calculate loss and update model parameters using gradient descent\n",
    "    for xi, yi in zip(valid_x, valid_y):\n",
    "    # calculate validation loss (BUT DON'T UPDATE MODEL PARAMETERS!)\n",
    "    def predict(x, logits):\n",
    "    return self(x, logits=logits)"
   ]
  },
  {
   "cell_type": "markdown",
   "id": "aa3c97e9",
   "metadata": {},
   "source": [
    "### 2.5 Question 5\n",
    "As gradient descent is iterating, store (using class variables), the training and validation loss.\n",
    "\n",
    "Visualise the training and validation loss. Is there a point at which the model begins to over fit? How do you know that the model is beginning to overfit by looking at these curves?"
   ]
  },
  {
   "cell_type": "markdown",
   "id": "706eb33d",
   "metadata": {},
   "source": [
    "### 2.6 Question 6\n",
    "Predict the class labels for the testing set.\n",
    "For the testing set, calculate the:\n",
    "\n",
    "• TP – number of true positives\n",
    "\n",
    "• TN – number of true negatives\n",
    "\n",
    "• FP – number of false positives\n",
    "\n",
    "• FN – number of false negatives"
   ]
  },
  {
   "cell_type": "code",
   "execution_count": 5,
   "id": "b7a43e23",
   "metadata": {},
   "outputs": [],
   "source": [
    "def confusion_matrix(y, yhat):\n",
    "    \n",
    "    \"\"\"\n",
    "    This function returns the elements of a two-dimensional confusion matrix \n",
    "    calculated by counting the true values resulting of using logical operators such that:\n",
    "\n",
    "        TP = Logical AND\n",
    "        TN = Logical NOR\n",
    "        FP = Logical A'B\n",
    "        FN = Logical AB'\n",
    "\n",
    "    \"\"\"\n",
    "    \n",
    "    # Logical AND Gate\n",
    "    TP = np.sum(np.logical_and(y, yhat))\n",
    "    \n",
    "    # Logical NOR Gate\n",
    "    TN = np.sum(np.logical_and(np.logical_not(y),np.logical_not(yhat)))\n",
    "    \n",
    "    # Logical A'B Gate\n",
    "    FP = np.sum(np.logical_and(np.logical_not(y),yhat))\n",
    "    \n",
    "    # Logical AB' Gate\n",
    "    FN = np.sum(np.logical_and(y,np.logical_not(yhat)))\n",
    "    \n",
    "    return TP, TN, FP, FN"
   ]
  },
  {
   "cell_type": "code",
   "execution_count": 11,
   "id": "fe913794",
   "metadata": {},
   "outputs": [
    {
     "name": "stdout",
     "output_type": "stream",
     "text": [
      "TP 1,TN 2,FP 1,FN 2\n"
     ]
    }
   ],
   "source": [
    "y =    np.array([1,1,0,1,0,0])\n",
    "yhat = np.array([0,0,1,1,0,0])\n",
    "\n",
    "\n",
    "\n",
    "TP, TN, FP, FN = confusion_matrix(y, yhat)\n",
    "\n",
    "print(\"TP \"+str(TP) + \",TN \"+ str(TN) + \",FP \"+ str(FP) + \",FN \"+ str(FN) )"
   ]
  },
  {
   "cell_type": "markdown",
   "id": "bf13c785",
   "metadata": {},
   "source": [
    "### ------------------------------------------"
   ]
  },
  {
   "cell_type": "code",
   "execution_count": 57,
   "id": "4f59a549",
   "metadata": {},
   "outputs": [],
   "source": [
    "x = iris[[\"Sepal_Length\", \"Sepal_Width\"]]\n",
    "\n",
    "def linear_regresor(x):\n",
    "    \n",
    "    #np.random.seed(42)\n",
    "    B0 = np.random.rand()\n",
    "    coeficients = np.random.rand(x.shape[1])\n",
    "    \n",
    "    yhat = B0 + np.dot(x,coeficients)\n",
    "    \n",
    "    return yhat"
   ]
  },
  {
   "cell_type": "code",
   "execution_count": 58,
   "id": "c0a17c1f",
   "metadata": {},
   "outputs": [],
   "source": [
    "def logistic(x):\n",
    "    # TODO: apply the logistic function\n",
    "    \n",
    "    p = 1 / (1 + np.exp(-x))\n",
    "    \n",
    "    return p"
   ]
  },
  {
   "cell_type": "code",
   "execution_count": 59,
   "id": "d33d8cc2",
   "metadata": {},
   "outputs": [],
   "source": [
    "\n",
    "\n",
    "def bce(y, yhat):\n",
    "    # TODO: apply the binary cross entropy function returning the loss\n",
    "    \n",
    "    negative_side = (1-y)* np.log(1-logistic(yhat))\n",
    "    positive_side = (y)* np.log(logistic(yhat))\n",
    "    N = len(y)\n",
    "    \n",
    "    bce = (-1*np.sum(negative_side + positive_side )) / N\n",
    "    \n",
    "    return bce\n",
    "    "
   ]
  },
  {
   "cell_type": "code",
   "execution_count": 62,
   "id": "8ad0a23e",
   "metadata": {
    "scrolled": true
   },
   "outputs": [
    {
     "data": {
      "text/plain": [
       "-8.0"
      ]
     },
     "execution_count": 62,
     "metadata": {},
     "output_type": "execute_result"
    }
   ],
   "source": [
    "(-1*np.sum(10 + 6 )) / 2"
   ]
  },
  {
   "cell_type": "code",
   "execution_count": 65,
   "id": "bf079771",
   "metadata": {
    "scrolled": true
   },
   "outputs": [
    {
     "data": {
      "text/plain": [
       "-8.0"
      ]
     },
     "execution_count": 65,
     "metadata": {},
     "output_type": "execute_result"
    }
   ],
   "source": [
    "-0.5 * np.sum(10 + 6 )"
   ]
  },
  {
   "cell_type": "code",
   "execution_count": 60,
   "id": "00781ae5",
   "metadata": {
    "scrolled": false
   },
   "outputs": [
    {
     "data": {
      "text/plain": [
       "0.9617694741336733"
      ]
     },
     "execution_count": 60,
     "metadata": {},
     "output_type": "execute_result"
    }
   ],
   "source": [
    "bce(iris['target'],logistic(linear_regresor(x)))"
   ]
  },
  {
   "cell_type": "code",
   "execution_count": 66,
   "id": "8a098fee",
   "metadata": {},
   "outputs": [
    {
     "data": {
      "text/plain": [
       "0      1\n",
       "1      1\n",
       "2      1\n",
       "3      1\n",
       "4      1\n",
       "      ..\n",
       "145    0\n",
       "146    0\n",
       "147    0\n",
       "148    0\n",
       "149    0\n",
       "Name: target, Length: 150, dtype: int64"
      ]
     },
     "execution_count": 66,
     "metadata": {},
     "output_type": "execute_result"
    }
   ],
   "source": [
    "iris['target']"
   ]
  },
  {
   "cell_type": "code",
   "execution_count": 56,
   "id": "0b802818",
   "metadata": {
    "scrolled": false
   },
   "outputs": [
    {
     "data": {
      "text/plain": [
       "array([0.98302176, 0.97574377, 0.97721605, 0.97511628, 0.98354868,\n",
       "       0.98776095, 0.97920236, 0.98144689, 0.97033653, 0.97715051,\n",
       "       0.98618976, 0.98035602, 0.97504486, 0.97124561, 0.98973285,\n",
       "       0.99170772, 0.98776095, 0.98302176, 0.98807347, 0.98582857,\n",
       "       0.98345328, 0.98494787, 0.98155364, 0.98085397, 0.98035602,\n",
       "       0.97642358, 0.98144689, 0.98350105, 0.98247827, 0.97721605,\n",
       "       0.97649115, 0.98345328, 0.9885124 , 0.9900825 , 0.97715051,\n",
       "       0.9790823 , 0.98486046, 0.97715051, 0.97204788, 0.98196982,\n",
       "       0.9825288 , 0.95889839, 0.97518751, 0.9825288 , 0.98582857,\n",
       "       0.97504486, 0.98582857, 0.97655854, 0.98578745, 0.98029933,\n",
       "       0.98820807, 0.98598815, 0.98710797, 0.96896061, 0.98267491,\n",
       "       0.97822845, 0.98642427, 0.96535742, 0.98414722, 0.97335998,\n",
       "       0.95737673, 0.98176046, 0.9714018 , 0.98170775, 0.97890093,\n",
       "       0.98634532, 0.9801283 , 0.97753503, 0.97297621, 0.97320711,\n",
       "       0.98382731, 0.980576  , 0.97803985, 0.980576  , 0.9832124 ,\n",
       "       0.98507406, 0.9841013 , 0.98549626, 0.98117737, 0.97546392,\n",
       "       0.97074894, 0.97074894, 0.97753503, 0.97877917, 0.97896156,\n",
       "       0.98606914, 0.98634532, 0.97525198, 0.9801283 , 0.97243717,\n",
       "       0.97403058, 0.98277471, 0.97615139, 0.96426903, 0.97621972,\n",
       "       0.98068766, 0.97949412, 0.98222346, 0.96913694, 0.97822845,\n",
       "       0.98642427, 0.97753503, 0.98707051, 0.98272488, 0.98463975,\n",
       "       0.98880295, 0.96734635, 0.98703294, 0.98040733, 0.99126345,\n",
       "       0.98638485, 0.98106849, 0.98590669, 0.97395612, 0.97884014,\n",
       "       0.98598815, 0.98463975, 0.99330349, 0.98614595, 0.9714018 ,\n",
       "       0.98786384, 0.97759949, 0.98772206, 0.98051994, 0.98789903,\n",
       "       0.98886786, 0.981123  , 0.98277471, 0.98217206, 0.98743696,\n",
       "       0.9866161 , 0.99368   , 0.98217206, 0.98165489, 0.97810289,\n",
       "       0.98912085, 0.98721971, 0.98511722, 0.98227471, 0.98710797,\n",
       "       0.98634532, 0.98710797, 0.97753503, 0.98750968, 0.98789903,\n",
       "       0.98549626, 0.97803985, 0.98463975, 0.98684701, 0.98176046])"
      ]
     },
     "execution_count": 56,
     "metadata": {},
     "output_type": "execute_result"
    }
   ],
   "source": [
    "logistic(linear_regresor(x))"
   ]
  },
  {
   "cell_type": "markdown",
   "id": "0a08b1ac",
   "metadata": {},
   "source": [
    "### 2.7 Question 7\n",
    "Calculate the precision and recall and F1 score.\n"
   ]
  },
  {
   "cell_type": "markdown",
   "id": "3fad65d9",
   "metadata": {},
   "source": [
    "$$Precission = \\frac{TP}{TP + FP}$$\n",
    "\n",
    "$$Recall = \\frac{TP}{TP + FN}$$\n",
    "\n",
    "$$F_{\\beta} = (1 + \\beta^{2})\\frac{Precission * Recall}{(\\beta^{2}* Precision) + Recall)}$$"
   ]
  },
  {
   "cell_type": "markdown",
   "id": "727ea48a",
   "metadata": {},
   "source": [
    "Calling the above function and making use of the previous equations we have that the metrics of the confusion matrix are given by:"
   ]
  },
  {
   "cell_type": "code",
   "execution_count": null,
   "id": "330e861f",
   "metadata": {},
   "outputs": [],
   "source": [
    "\n",
    "def precision(y, yhat):\n",
    "    # calculate the precision and return it\n",
    "    TP, TN, FP, FN = confusion_matrix(y, yhat)  \n",
    "    pr = TP / (TP + FP)\n",
    "    \n",
    "    return pr\n",
    "\n",
    "def recall(y, yhat):\n",
    "    # calculate the recall and return it\n",
    "    TP, TN, FP, FN = confusion_matrix(y, yhat)\n",
    "    rc = TP / (TP + FN)\n",
    "    \n",
    "    return rc\n",
    "\n",
    "def f_beta(y, yhat, beta=1):\n",
    "    \n",
    "    pr = precision(y, yhat)\n",
    "    rc = recall(y, yhat)\n",
    "    \n",
    "    # calculate the f_beta score and return it\n",
    "    fb = (1 + beta**2) * ((pr * rc) / ((beta**2 * pr) + rc))\n",
    "    \n",
    "    return fb\n"
   ]
  },
  {
   "cell_type": "markdown",
   "id": "808e81b5",
   "metadata": {},
   "source": [
    "### 2.8 Question 8\n",
    "Generate a report using the precision, recall and F1 and confusion matrix.\n",
    "The report should be printed like:"
   ]
  },
  {
   "cell_type": "code",
   "execution_count": null,
   "id": "a4b4ad0a",
   "metadata": {
    "scrolled": false
   },
   "outputs": [],
   "source": [
    "t1 = \"|\" + \" \" * 8 + \"|\" + \" \" * 10 + \"| Predicted |\" + \" \" *10 + \"|\\n\"\n",
    "t2 = \"|\" + \" \" * 8 + \"|\" + \" \" * 10 + \"|  Positive |\" + \" Negative |\\n\"\n",
    "t3 = \"| Actual |\" + \" Positive |\" + \" \" * (10 - len(str(TP))) + str(TP) + \" |\" + \" \" * (9 - len(str(FN))) + str(FN) + \" |\\n\"\n",
    "t4 = \"|\" + \" \" * 8 + \"|\" + \" Negative |\" + \" \" * (10 - len(str(FP))) + str(FP) + \" |\" + \" \" * (9 - len(str(TN))) + str(TN) + \" |\\n\"\n",
    "\n",
    "print(t1+t2+t3+t4)"
   ]
  },
  {
   "cell_type": "markdown",
   "id": "8beb8ea0",
   "metadata": {},
   "source": [
    "### 2.9 Question 9\n",
    "Calculate the true-positive and false positive rate, and from these values\n",
    "generate a ROC curve.\n"
   ]
  },
  {
   "cell_type": "code",
   "execution_count": null,
   "id": "2eba1750",
   "metadata": {},
   "outputs": [],
   "source": [
    "def roc(y, yhat, threshold_step=0.01):\n",
    "# iteratively increase the threshold by threshold_step,\n",
    "# calculating the TP and FP rate for each iteration. This function\n",
    "# should return two lists, a list of TP rates, and a list of FP\n",
    "# rates.\n",
    "    return tp, fp\n",
    "\n",
    "tp, fp = roc(y, yhat)"
   ]
  },
  {
   "cell_type": "markdown",
   "id": "10e280b5",
   "metadata": {},
   "source": [
    "### 2.10 Question 10\n",
    "Now that you’ve created a logistic classifier for two features of the Iris dataset\n",
    "and have created some analytic results. Select another two columns (i.e.\n",
    "petal width and sepal length, or petal length and sepal width). Create\n",
    "a different logistic classifier using these new columns and create the same\n",
    "results as you did with questions 8 and 9.\n",
    "Compare these two models trained with different columns. Which model\n",
    "is best, and why do we know that it’s the best?\n"
   ]
  }
 ],
 "metadata": {
  "kernelspec": {
   "display_name": "Python 3 (ipykernel)",
   "language": "python",
   "name": "python3"
  },
  "language_info": {
   "codemirror_mode": {
    "name": "ipython",
    "version": 3
   },
   "file_extension": ".py",
   "mimetype": "text/x-python",
   "name": "python",
   "nbconvert_exporter": "python",
   "pygments_lexer": "ipython3",
   "version": "3.8.15"
  }
 },
 "nbformat": 4,
 "nbformat_minor": 5
}
