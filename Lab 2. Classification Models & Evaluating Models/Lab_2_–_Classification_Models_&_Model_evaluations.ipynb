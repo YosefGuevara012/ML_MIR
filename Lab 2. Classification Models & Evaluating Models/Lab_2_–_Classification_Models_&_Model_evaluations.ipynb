{
  "cells": [
    {
      "cell_type": "markdown",
      "id": "77d402d9",
      "metadata": {
        "id": "77d402d9"
      },
      "source": [
        "### 2.2 Question 2\n",
        "\n",
        "Download the Iris dataset from https://archive.ics.uci.edu/ml/machine-learning-databases/iris/. The dataset can be downloaded from iris.data. Load the data into a pandas dataframe.\n",
        "For this lab, we’re going to be performing a binary classification problem,\n",
        "but this dataset has 3 classes: setosa, virginica, and versicolor. So we want\n",
        "to take this multi-class problem and transform it into a binary classification.\n",
        "Create a new column for the dataset called target. The value of target\n",
        "will be 1 if the row contains a setosa flower, else the value is $0$. There should\n",
        "be $\\frac{1}{3}$ rows with the value of $1$, the rest should be $0$."
      ]
    },
    {
      "cell_type": "code",
      "execution_count": 1,
      "id": "22f45ca1",
      "metadata": {
        "colab": {
          "base_uri": "https://localhost:8080/",
          "height": 423
        },
        "id": "22f45ca1",
        "outputId": "89adf844-cb9d-4d28-8fd0-4596bb30117f"
      },
      "outputs": [
        {
          "output_type": "execute_result",
          "data": {
            "text/plain": [
              "     Sepal_Length  Sepal_Width  Petal_Length  Petal_Width         Species  \\\n",
              "0             5.1          3.5           1.4          0.2     Iris-setosa   \n",
              "1             4.9          3.0           1.4          0.2     Iris-setosa   \n",
              "2             4.7          3.2           1.3          0.2     Iris-setosa   \n",
              "3             4.6          3.1           1.5          0.2     Iris-setosa   \n",
              "4             5.0          3.6           1.4          0.2     Iris-setosa   \n",
              "..            ...          ...           ...          ...             ...   \n",
              "145           6.7          3.0           5.2          2.3  Iris-virginica   \n",
              "146           6.3          2.5           5.0          1.9  Iris-virginica   \n",
              "147           6.5          3.0           5.2          2.0  Iris-virginica   \n",
              "148           6.2          3.4           5.4          2.3  Iris-virginica   \n",
              "149           5.9          3.0           5.1          1.8  Iris-virginica   \n",
              "\n",
              "     target  \n",
              "0         1  \n",
              "1         1  \n",
              "2         1  \n",
              "3         1  \n",
              "4         1  \n",
              "..      ...  \n",
              "145       0  \n",
              "146       0  \n",
              "147       0  \n",
              "148       0  \n",
              "149       0  \n",
              "\n",
              "[150 rows x 6 columns]"
            ],
            "text/html": [
              "\n",
              "  <div id=\"df-79ad5e8c-a4a5-4c61-888d-b87adf033c85\">\n",
              "    <div class=\"colab-df-container\">\n",
              "      <div>\n",
              "<style scoped>\n",
              "    .dataframe tbody tr th:only-of-type {\n",
              "        vertical-align: middle;\n",
              "    }\n",
              "\n",
              "    .dataframe tbody tr th {\n",
              "        vertical-align: top;\n",
              "    }\n",
              "\n",
              "    .dataframe thead th {\n",
              "        text-align: right;\n",
              "    }\n",
              "</style>\n",
              "<table border=\"1\" class=\"dataframe\">\n",
              "  <thead>\n",
              "    <tr style=\"text-align: right;\">\n",
              "      <th></th>\n",
              "      <th>Sepal_Length</th>\n",
              "      <th>Sepal_Width</th>\n",
              "      <th>Petal_Length</th>\n",
              "      <th>Petal_Width</th>\n",
              "      <th>Species</th>\n",
              "      <th>target</th>\n",
              "    </tr>\n",
              "  </thead>\n",
              "  <tbody>\n",
              "    <tr>\n",
              "      <th>0</th>\n",
              "      <td>5.1</td>\n",
              "      <td>3.5</td>\n",
              "      <td>1.4</td>\n",
              "      <td>0.2</td>\n",
              "      <td>Iris-setosa</td>\n",
              "      <td>1</td>\n",
              "    </tr>\n",
              "    <tr>\n",
              "      <th>1</th>\n",
              "      <td>4.9</td>\n",
              "      <td>3.0</td>\n",
              "      <td>1.4</td>\n",
              "      <td>0.2</td>\n",
              "      <td>Iris-setosa</td>\n",
              "      <td>1</td>\n",
              "    </tr>\n",
              "    <tr>\n",
              "      <th>2</th>\n",
              "      <td>4.7</td>\n",
              "      <td>3.2</td>\n",
              "      <td>1.3</td>\n",
              "      <td>0.2</td>\n",
              "      <td>Iris-setosa</td>\n",
              "      <td>1</td>\n",
              "    </tr>\n",
              "    <tr>\n",
              "      <th>3</th>\n",
              "      <td>4.6</td>\n",
              "      <td>3.1</td>\n",
              "      <td>1.5</td>\n",
              "      <td>0.2</td>\n",
              "      <td>Iris-setosa</td>\n",
              "      <td>1</td>\n",
              "    </tr>\n",
              "    <tr>\n",
              "      <th>4</th>\n",
              "      <td>5.0</td>\n",
              "      <td>3.6</td>\n",
              "      <td>1.4</td>\n",
              "      <td>0.2</td>\n",
              "      <td>Iris-setosa</td>\n",
              "      <td>1</td>\n",
              "    </tr>\n",
              "    <tr>\n",
              "      <th>...</th>\n",
              "      <td>...</td>\n",
              "      <td>...</td>\n",
              "      <td>...</td>\n",
              "      <td>...</td>\n",
              "      <td>...</td>\n",
              "      <td>...</td>\n",
              "    </tr>\n",
              "    <tr>\n",
              "      <th>145</th>\n",
              "      <td>6.7</td>\n",
              "      <td>3.0</td>\n",
              "      <td>5.2</td>\n",
              "      <td>2.3</td>\n",
              "      <td>Iris-virginica</td>\n",
              "      <td>0</td>\n",
              "    </tr>\n",
              "    <tr>\n",
              "      <th>146</th>\n",
              "      <td>6.3</td>\n",
              "      <td>2.5</td>\n",
              "      <td>5.0</td>\n",
              "      <td>1.9</td>\n",
              "      <td>Iris-virginica</td>\n",
              "      <td>0</td>\n",
              "    </tr>\n",
              "    <tr>\n",
              "      <th>147</th>\n",
              "      <td>6.5</td>\n",
              "      <td>3.0</td>\n",
              "      <td>5.2</td>\n",
              "      <td>2.0</td>\n",
              "      <td>Iris-virginica</td>\n",
              "      <td>0</td>\n",
              "    </tr>\n",
              "    <tr>\n",
              "      <th>148</th>\n",
              "      <td>6.2</td>\n",
              "      <td>3.4</td>\n",
              "      <td>5.4</td>\n",
              "      <td>2.3</td>\n",
              "      <td>Iris-virginica</td>\n",
              "      <td>0</td>\n",
              "    </tr>\n",
              "    <tr>\n",
              "      <th>149</th>\n",
              "      <td>5.9</td>\n",
              "      <td>3.0</td>\n",
              "      <td>5.1</td>\n",
              "      <td>1.8</td>\n",
              "      <td>Iris-virginica</td>\n",
              "      <td>0</td>\n",
              "    </tr>\n",
              "  </tbody>\n",
              "</table>\n",
              "<p>150 rows × 6 columns</p>\n",
              "</div>\n",
              "      <button class=\"colab-df-convert\" onclick=\"convertToInteractive('df-79ad5e8c-a4a5-4c61-888d-b87adf033c85')\"\n",
              "              title=\"Convert this dataframe to an interactive table.\"\n",
              "              style=\"display:none;\">\n",
              "        \n",
              "  <svg xmlns=\"http://www.w3.org/2000/svg\" height=\"24px\"viewBox=\"0 0 24 24\"\n",
              "       width=\"24px\">\n",
              "    <path d=\"M0 0h24v24H0V0z\" fill=\"none\"/>\n",
              "    <path d=\"M18.56 5.44l.94 2.06.94-2.06 2.06-.94-2.06-.94-.94-2.06-.94 2.06-2.06.94zm-11 1L8.5 8.5l.94-2.06 2.06-.94-2.06-.94L8.5 2.5l-.94 2.06-2.06.94zm10 10l.94 2.06.94-2.06 2.06-.94-2.06-.94-.94-2.06-.94 2.06-2.06.94z\"/><path d=\"M17.41 7.96l-1.37-1.37c-.4-.4-.92-.59-1.43-.59-.52 0-1.04.2-1.43.59L10.3 9.45l-7.72 7.72c-.78.78-.78 2.05 0 2.83L4 21.41c.39.39.9.59 1.41.59.51 0 1.02-.2 1.41-.59l7.78-7.78 2.81-2.81c.8-.78.8-2.07 0-2.86zM5.41 20L4 18.59l7.72-7.72 1.47 1.35L5.41 20z\"/>\n",
              "  </svg>\n",
              "      </button>\n",
              "      \n",
              "  <style>\n",
              "    .colab-df-container {\n",
              "      display:flex;\n",
              "      flex-wrap:wrap;\n",
              "      gap: 12px;\n",
              "    }\n",
              "\n",
              "    .colab-df-convert {\n",
              "      background-color: #E8F0FE;\n",
              "      border: none;\n",
              "      border-radius: 50%;\n",
              "      cursor: pointer;\n",
              "      display: none;\n",
              "      fill: #1967D2;\n",
              "      height: 32px;\n",
              "      padding: 0 0 0 0;\n",
              "      width: 32px;\n",
              "    }\n",
              "\n",
              "    .colab-df-convert:hover {\n",
              "      background-color: #E2EBFA;\n",
              "      box-shadow: 0px 1px 2px rgba(60, 64, 67, 0.3), 0px 1px 3px 1px rgba(60, 64, 67, 0.15);\n",
              "      fill: #174EA6;\n",
              "    }\n",
              "\n",
              "    [theme=dark] .colab-df-convert {\n",
              "      background-color: #3B4455;\n",
              "      fill: #D2E3FC;\n",
              "    }\n",
              "\n",
              "    [theme=dark] .colab-df-convert:hover {\n",
              "      background-color: #434B5C;\n",
              "      box-shadow: 0px 1px 3px 1px rgba(0, 0, 0, 0.15);\n",
              "      filter: drop-shadow(0px 1px 2px rgba(0, 0, 0, 0.3));\n",
              "      fill: #FFFFFF;\n",
              "    }\n",
              "  </style>\n",
              "\n",
              "      <script>\n",
              "        const buttonEl =\n",
              "          document.querySelector('#df-79ad5e8c-a4a5-4c61-888d-b87adf033c85 button.colab-df-convert');\n",
              "        buttonEl.style.display =\n",
              "          google.colab.kernel.accessAllowed ? 'block' : 'none';\n",
              "\n",
              "        async function convertToInteractive(key) {\n",
              "          const element = document.querySelector('#df-79ad5e8c-a4a5-4c61-888d-b87adf033c85');\n",
              "          const dataTable =\n",
              "            await google.colab.kernel.invokeFunction('convertToInteractive',\n",
              "                                                     [key], {});\n",
              "          if (!dataTable) return;\n",
              "\n",
              "          const docLinkHtml = 'Like what you see? Visit the ' +\n",
              "            '<a target=\"_blank\" href=https://colab.research.google.com/notebooks/data_table.ipynb>data table notebook</a>'\n",
              "            + ' to learn more about interactive tables.';\n",
              "          element.innerHTML = '';\n",
              "          dataTable['output_type'] = 'display_data';\n",
              "          await google.colab.output.renderOutput(dataTable, element);\n",
              "          const docLink = document.createElement('div');\n",
              "          docLink.innerHTML = docLinkHtml;\n",
              "          element.appendChild(docLink);\n",
              "        }\n",
              "      </script>\n",
              "    </div>\n",
              "  </div>\n",
              "  "
            ]
          },
          "metadata": {},
          "execution_count": 1
        }
      ],
      "source": [
        "import pandas as pd\n",
        "import numpy as np\n",
        "import matplotlib.pyplot as plt\n",
        "np.random.seed(42)\n",
        "\n",
        "# Defining the fielpath\n",
        "filepath = \"/content/data/iris.data\" \n",
        "\n",
        "def load_data(filepath):\n",
        "    \n",
        "    # This part reads the data and avoids to use the first row as the column name\n",
        "    df = pd.read_csv(filepath, header = None)\n",
        "    \n",
        "    # After that the column names for the Dataset are assigned\n",
        "    col_names = ['Sepal_Length','Sepal_Width','Petal_Length','Petal_Width','Species']\n",
        "    df.columns = col_names  \n",
        "    \n",
        "    # Then the column \"tareget\" is created and filled with ceros\n",
        "    df['target']  = 0\n",
        "    \n",
        "    # Then the values in \"target\" column are modified depending if the Specie is or not a Setosa\n",
        "    df.loc[df['Species'] == 'Iris-setosa', 'target'] = 1\n",
        "    \n",
        "    return df\n",
        "\n",
        "# The previous function is called\n",
        "iris  = load_data(filepath)\n",
        "iris"
      ]
    },
    {
      "cell_type": "markdown",
      "id": "c374e109",
      "metadata": {
        "id": "c374e109"
      },
      "source": [
        "### 2.3 Question 3\n",
        "For this question we want to take this dataset of 150 rows, and split it into\n",
        "a train, test, and validation dataset, using the following proportions for each\n",
        "split:\n",
        "\n",
        "• Training: 70%\n",
        "\n",
        "• Validation: 10%\n",
        "\n",
        "• Testing: 20%\n",
        "\n",
        "Sample data for each subset using stratified sampling. I.e. the training data should have roughly $\\frac{1}{3}$\n",
        "positive samples, the testing and validation dataset should also have roughly $\\frac{1}{3}$ positive samples.\n"
      ]
    },
    {
      "cell_type": "code",
      "execution_count": 2,
      "id": "41d597eb",
      "metadata": {
        "scrolled": false,
        "colab": {
          "base_uri": "https://localhost:8080/"
        },
        "id": "41d597eb",
        "outputId": "e84151df-4ade-4442-bf82-e8b77a4b859c"
      },
      "outputs": [
        {
          "output_type": "execute_result",
          "data": {
            "text/plain": [
              "Iris-setosa        50\n",
              "Iris-versicolor    50\n",
              "Iris-virginica     50\n",
              "Name: Species, dtype: int64"
            ]
          },
          "metadata": {},
          "execution_count": 2
        }
      ],
      "source": [
        "# This part is in charge of making the Data split for this, \n",
        "# it is identified that there are 3 types of species each with 50 samples.\n",
        "# Which may or may not be of the Iris-setosa type.\n",
        "\n",
        "iris['Species'].value_counts()"
      ]
    },
    {
      "cell_type": "markdown",
      "source": [
        "This column, although not the target column, will help us to generate a balanced data set where there is an equal number of individuals for each type of Iris species, which may or may not be classified as Iris-setosa."
      ],
      "metadata": {
        "id": "O2sfkqI34bsM"
      },
      "id": "O2sfkqI34bsM"
    },
    {
      "cell_type": "code",
      "execution_count": 3,
      "id": "37a28480",
      "metadata": {
        "id": "37a28480"
      },
      "outputs": [],
      "source": [
        "def slipt_data(df, column):\n",
        "\n",
        "   \n",
        "   \n",
        "    \"\"\"\n",
        "    Given that the data set is perfectly divided among 50 samples for each species, \n",
        "    35 random samples will be taken from\n",
        "\n",
        "      \"Iris-setosa\"\n",
        "      \"Iris-versicolor\"\n",
        "      \"Iris-virginica\"\n",
        "\n",
        "    Which will complete 70% of the training set data, \n",
        "    the same will be done with the validation set 10%, with 10 exp. per specie,\n",
        "    and the testing set 20%, with 10 exp. per specie,.\n",
        "    \"\"\"\n",
        "    # This identifies unique values of existing in the dataset for that column.\n",
        "    values = list(df[column].unique())\n",
        "    \n",
        "    # 3 datasets are created for training, test and validation.\n",
        "    training_set = pd.DataFrame()\n",
        "    testing_set = pd.DataFrame()\n",
        "    validation_set = pd.DataFrame()\n",
        "    \n",
        "\n",
        "    for value in values:\n",
        "        \n",
        "        data = df[df[column] == value] # Selects the specie\n",
        "        train=data.sample(n = 35,random_state=42) # Choose the training samples\n",
        "        test=data.drop(train.index) \n",
        "        validation = test.sample(n=5,random_state=42) # Choose the validation samples\n",
        "        test=test.drop(validation.index) # Choose the test samples\n",
        "        \n",
        "        training_set = pd.concat([training_set, train])\n",
        "        testing_set = pd.concat([testing_set, test])\n",
        "        validation_set = pd.concat([validation_set, validation])\n",
        "\n",
        "    return training_set, testing_set, validation_set  \n",
        "   "
      ]
    },
    {
      "cell_type": "code",
      "execution_count": 4,
      "id": "f80e0bc9",
      "metadata": {
        "id": "f80e0bc9"
      },
      "outputs": [],
      "source": [
        "training_set, testing_set, validation_set = slipt_data(iris, 'Species')"
      ]
    },
    {
      "cell_type": "markdown",
      "id": "c0601325",
      "metadata": {
        "id": "c0601325"
      },
      "source": [
        "### 2.4 Question 4\n",
        "Using the linear regression model you created in the previous lecture, transform it into a logistic regressor by applying the logistic function to the output\n",
        "of the model. The loss function for this model should be binary cross entropy.\n",
        "\n",
        "Select two columns from the Iris dataset (i.e. petal length and petal\n",
        "width), and using these two columns, train a logistic regressor using gradient\n",
        "descent, measuring the gradient using finite differences approximation. This\n",
        "means that instead of having a single slope variable, we have multiple:\n",
        "\n",
        "$$\\hat{y} = \\sigma\\left (\\beta_{0} + \\sum_{i = 1}^{m}x_{i}\\beta_{i}\\right )$$\n",
        "\n",
        "\n",
        "where $\\hat{y}$ is the model’s probability prediction, $\\sigma$ is the logistic/sigmoid\n",
        "function, $\\beta_{0}$ is the intercept, $\\beta_{i}$\n",
        "is the coefficient that modulates the $X_{i}$ variable.\n",
        "\n",
        "I’ve made a start for you, please fill in the ’#TODOs’:"
      ]
    },
    {
      "cell_type": "code",
      "source": [
        "import matplotlib.pyplot as plt\n",
        "varibles_to_plot = [\"Sepal_Length\",\t\"Sepal_Width\",\t\"Petal_Length\",\t\"Petal_Width\"]\n",
        "\n",
        "fig, axs = plt.subplots(2, 2, figsize=(18, 9), constrained_layout=True)\n",
        "for ax, variable in zip(axs.flat, varibles_to_plot):\n",
        "    ax.set_title(\"{0} vs {1}\".format(variable, 'Target'))\n",
        "    ax.scatter(training_set[variable], training_set['target'])\n"
      ],
      "metadata": {
        "colab": {
          "base_uri": "https://localhost:8080/",
          "height": 673
        },
        "id": "Ifp2VyGV12cv",
        "outputId": "0e944fa4-a8cb-4dec-bc3f-c164780c8e1f"
      },
      "id": "Ifp2VyGV12cv",
      "execution_count": 5,
      "outputs": [
        {
          "output_type": "display_data",
          "data": {
            "text/plain": [
              "<Figure size 1296x648 with 4 Axes>"
            ],
            "image/png": "[encoded data removed]"
          },
          "metadata": {
            "needs_background": "light"
          }
        }
      ]
    },
    {
      "cell_type": "markdown",
      "source": [
        "When verifying the data we can see that the \"Petal_Length\" and \"Petal_Width\" are variables that allow us to clearly separate respect to the target using a logistic regression, therefore these 2 will be taken as regressor variables of our model."
      ],
      "metadata": {
        "id": "Um6h-K3r8O9V"
      },
      "id": "Um6h-K3r8O9V"
    },
    {
      "cell_type": "code",
      "execution_count": 6,
      "id": "09978582",
      "metadata": {
        "id": "09978582"
      },
      "outputs": [],
      "source": [
        "# Training sets containing only the selected regressor variables are generated.\n",
        "train_x = training_set[[\"Petal_Length\", \"Petal_Width\"]]\n",
        "train_y = training_set['target']\n",
        "\n",
        "test_x = testing_set[[\"Petal_Length\", \"Petal_Width\"]]\n",
        "test_y = testing_set['target']\n",
        "\n",
        "valid_x = validation_set[[\"Petal_Length\", \"Petal_Width\"]]\n",
        "valid_y = validation_set['target']"
      ]
    },
    {
      "cell_type": "markdown",
      "source": [
        "We know that the best error function for a binary regression, is the bbinary cross entropy, defined as:\n",
        "\n",
        "$$L = -\\frac{1}{n}\\sum_i^n y_i \\log(\\hat{y_i}) + (1-y_i) \\log(1-\\hat{y_i})$$\n",
        "\n",
        "Where the finite difference gradient of this function is defined by:\n",
        "\n",
        "$$\\frac{\\partial L}{\\partial \\beta_i} = \\frac{L(x,y;\\beta_i + \\epsilon, \\beta) - L(x,y;\\beta_i, \\beta)}{\\beta_i + \\epsilon - \\beta_i} =\n",
        "\\frac{L(x,y;\\beta_i + \\epsilon, \\beta) - L(x,y;\\beta_i, \\beta)}{\\epsilon} \n",
        "$$"
      ],
      "metadata": {
        "id": "tJgjIoSw9XHW"
      },
      "id": "tJgjIoSw9XHW"
    },
    {
      "cell_type": "code",
      "execution_count": 7,
      "id": "10b7dd0b",
      "metadata": {
        "id": "10b7dd0b"
      },
      "outputs": [],
      "source": [
        "from IPython.terminal.ipapp import shell_flags\n",
        "def bce(y, yhat):\n",
        "\n",
        "    y =  np.array(y)\n",
        "    yhat = np.array(yhat)\n",
        "\n",
        "    # TODO: apply the binary cross entropy function returning the loss\n",
        "    negative_side = (1-y)* np.log(1-yhat)\n",
        "    positive_side = (y)* np.log(yhat)\n",
        "    N = len(y)\n",
        "    bce = (-1/N)* np.sum(positive_side + negative_side)\n",
        "    return bce\n",
        "\n",
        "\n",
        "class LogisticRegressor:\n",
        "    \n",
        "    def __init__(self, n_features: int = 2):\n",
        "\n",
        "        self.params = np.random.randn(n_features + 1)\n",
        "    \n",
        "    def lm(self, x):\n",
        "\n",
        "        \"\"\"Linear regresor\"\"\"\n",
        "\n",
        "        h = self.params[0] + self.params[1:] @ x.T\n",
        "        return h\n",
        "\n",
        "\n",
        "    def logistic(self, h):\n",
        "\n",
        "        \"\"\"Logistic regresor\"\"\"\n",
        "\n",
        "        # TODO: apply the logistic function\n",
        "        z = 1 / (1 + np.exp(-h))\n",
        "        return z\n",
        "\n",
        "    def gradient_decent(self, x, y, epsilon = 1e-4):\n",
        "\n",
        "        # The gradient of the variables to be analyzed is calculated.\n",
        "        # an epsilon matrix is generated, which gives the differences\n",
        "        # in each row a value Bn+epsilon,\n",
        "        # while the other parameters are kept constant.\n",
        "\n",
        "        n = len(self.params)\n",
        "        epsilon_matrix = np.diag(np.zeros(n) + np.array(epsilon))\n",
        "        params_matrix = np.full((n,n),self.params) + epsilon_matrix\n",
        "        \n",
        "        # A vector of gradients of the size of the number of parameters is generated.\n",
        "        gradient = np.zeros(n)\n",
        "\n",
        "        # The gradient is calculated for each row of the epsilon matrix \n",
        "        # and stored in the gradient vector.\n",
        "\n",
        "        for i in range(n):\n",
        "          \n",
        "          # Model prediction is performed using the Bn+epsilon values.\n",
        "          params = params_matrix[i,:]\n",
        "          h_e = params[0] + params[1:] @ x.T\n",
        "          z_e = self.logistic(h_e)\n",
        "\n",
        "          # The prediction is performed using the current values.\n",
        "          z = self.logistic(self.lm(x))\n",
        "\n",
        "          gradient[i] = (bce(y, z_e) - bce(y, z)) / epsilon\n",
        "\n",
        "        return gradient\n",
        "\n",
        "\n",
        "    def fit(self, train_x, train_y, valid_x, valid_y, epochs: int = 1000, lr: float = 0.01):\n",
        "        \n",
        "        \"\"\" Adjusts the model parameters to obtain the result that contains \n",
        "        the minumum error.\"\"\"\n",
        "        \n",
        "        # TODO: train the model using gradient descent and finite-differences\n",
        "\n",
        "        training_loss   = []\n",
        "        validation_loss = []\n",
        "\n",
        "        for epoch in range(epochs):\n",
        "          \n",
        "          # The gradient calculation function is called\n",
        "          gradient = self.gradient_decent(train_x, train_y, epsilon = 1e-4)\n",
        "\n",
        "          # Regression is performed\n",
        "          z = self.logistic(self.lm(train_x))\n",
        "          z_validation = self.logistic(self.lm(valid_x))\n",
        "\n",
        "          # Parameters are updated\n",
        "          self.params -= (lr * gradient)\n",
        "\n",
        "\n",
        "          # The error is calculated\n",
        "          training_loss.append(bce(train_y, z))\n",
        "          validation_loss.append(bce(valid_y, z_validation)) \n",
        "\n",
        "        return training_loss, validation_loss\n",
        "    \n",
        "\n",
        "    def predict(self, x, threshold = 0.5):\n",
        "\n",
        "        \"\"\"\n",
        "        The model is predicted based on the values of the regressor variables.\n",
        "        and to the established threshold\n",
        "        \"\"\"\n",
        "\n",
        "        self.probabiity= self.logistic(self.lm(x))\n",
        "\n",
        "        yhat = [1 if i >= threshold else 0 for i in self.probabiity]\n",
        "\n",
        "        return yhat\n",
        "\n",
        "        \n",
        "  \n"
      ]
    },
    {
      "cell_type": "markdown",
      "id": "aa3c97e9",
      "metadata": {
        "id": "aa3c97e9"
      },
      "source": [
        "### 2.5 Question 5\n",
        "As gradient descent is iterating, store (using class variables), the training and validation loss.\n",
        "\n",
        "Visualise the training and validation loss. Is there a point at which the model begins to over fit? How do you know that the model is beginning to overfit by looking at these curves?"
      ]
    },
    {
      "cell_type": "code",
      "source": [
        "# An object using the LogisticRegressor class is generated. \n",
        "lr = LogisticRegressor()"
      ],
      "metadata": {
        "id": "CEuxZQZHj1w0"
      },
      "id": "CEuxZQZHj1w0",
      "execution_count": 8,
      "outputs": []
    },
    {
      "cell_type": "code",
      "source": [
        "# The model is adjusted\n",
        "training_loss, validation_loss = lr.fit(train_x, train_y, valid_x, valid_y)"
      ],
      "metadata": {
        "id": "XesPji5-QN1p"
      },
      "id": "XesPji5-QN1p",
      "execution_count": 9,
      "outputs": []
    },
    {
      "cell_type": "code",
      "source": [
        "# The model training and validation loss are plotted.\n",
        "plt.figure(figsize=(10, 5), dpi=80)\n",
        "plt.plot(training_loss)\n",
        "plt.plot(validation_loss)\n",
        "plt.title(\"Training vs validation loss\")\n",
        "plt.xlabel(\"Epochs\")\n",
        "plt.ylabel(\"Loss\")\n",
        "plt.legend(['Training loss','Validation loss'])\n",
        "plt.grid()\n",
        "plt.show()"
      ],
      "metadata": {
        "colab": {
          "base_uri": "https://localhost:8080/",
          "height": 383
        },
        "id": "n1VVyTdRKSB4",
        "outputId": "37afa4a6-1453-496e-fd09-1958f1ff4f58"
      },
      "id": "n1VVyTdRKSB4",
      "execution_count": 10,
      "outputs": [
        {
          "output_type": "display_data",
          "data": {
            "text/plain": [
              "<Figure size 800x400 with 1 Axes>"
            ],
            "image/png": "[encoded data removed]"
          },
          "metadata": {
            "needs_background": "light"
          }
        }
      ]
    },
    {
      "cell_type": "code",
      "source": [
        "# A variable containing the predicted values is generated.\n",
        "yhat = lr.predict(test_x)\n",
        "yhat"
      ],
      "metadata": {
        "colab": {
          "base_uri": "https://localhost:8080/"
        },
        "id": "M979_y1dJ8CZ",
        "outputId": "f755c029-20ee-4533-c1a5-837e4a687eb2"
      },
      "id": "M979_y1dJ8CZ",
      "execution_count": 11,
      "outputs": [
        {
          "output_type": "execute_result",
          "data": {
            "text/plain": [
              "[1,\n",
              " 1,\n",
              " 1,\n",
              " 1,\n",
              " 1,\n",
              " 1,\n",
              " 1,\n",
              " 1,\n",
              " 1,\n",
              " 1,\n",
              " 0,\n",
              " 0,\n",
              " 0,\n",
              " 0,\n",
              " 0,\n",
              " 0,\n",
              " 0,\n",
              " 0,\n",
              " 0,\n",
              " 0,\n",
              " 0,\n",
              " 0,\n",
              " 0,\n",
              " 0,\n",
              " 0,\n",
              " 0,\n",
              " 0,\n",
              " 0,\n",
              " 0,\n",
              " 0]"
            ]
          },
          "metadata": {},
          "execution_count": 11
        }
      ]
    },
    {
      "cell_type": "markdown",
      "id": "706eb33d",
      "metadata": {
        "id": "706eb33d"
      },
      "source": [
        "### 2.6 Question 6\n",
        "Predict the class labels for the testing set.\n",
        "For the testing set, calculate the:\n",
        "\n",
        "• TP – number of true positives\n",
        "\n",
        "• TN – number of true negatives\n",
        "\n",
        "• FP – number of false positives\n",
        "\n",
        "• FN – number of false negatives"
      ]
    },
    {
      "cell_type": "code",
      "execution_count": 12,
      "id": "b7a43e23",
      "metadata": {
        "id": "b7a43e23"
      },
      "outputs": [],
      "source": [
        "def confusion_matrix(y, yhat):\n",
        "    \n",
        "    \"\"\"\n",
        "    This function returns the elements of a two-dimensional confusion matrix \n",
        "    calculated by counting the true values resulting of using logical operators such that:\n",
        "\n",
        "        TP = Logical AND\n",
        "        TN = Logical NOR\n",
        "        FP = Logical A'B\n",
        "        FN = Logical AB'\n",
        "\n",
        "    \"\"\"\n",
        "    \n",
        "    # Logical AND Gate\n",
        "    TP = np.sum(np.logical_and(y, yhat))\n",
        "    \n",
        "    # Logical NOR Gate\n",
        "    TN = np.sum(np.logical_and(np.logical_not(y),np.logical_not(yhat)))\n",
        "    \n",
        "    # Logical A'B Gate\n",
        "    FP = np.sum(np.logical_and(np.logical_not(y),yhat))\n",
        "    \n",
        "    # Logical AB' Gate\n",
        "    FN = np.sum(np.logical_and(y,np.logical_not(yhat)))\n",
        "    \n",
        "    return TP, TN, FP, FN"
      ]
    },
    {
      "cell_type": "code",
      "execution_count": 13,
      "id": "fe913794",
      "metadata": {
        "colab": {
          "base_uri": "https://localhost:8080/"
        },
        "id": "fe913794",
        "outputId": "89b41879-21f3-4792-d1b8-c454ecf9fd67"
      },
      "outputs": [
        {
          "output_type": "stream",
          "name": "stdout",
          "text": [
            "TP 10,TN 20,FP 0,FN 0\n"
          ]
        }
      ],
      "source": [
        "# A variable containing the actual values of the test set is generated.\n",
        "y =  test_y\n",
        "\n",
        "# The function that generates the confusion matrix is called \n",
        "TP, TN, FP, FN = confusion_matrix(y, yhat)\n",
        "\n",
        "print(\"TP \"+str(TP) + \",TN \"+ str(TN) + \",FP \"+ str(FP) + \",FN \"+ str(FN) )"
      ]
    },
    {
      "cell_type": "markdown",
      "id": "0a08b1ac",
      "metadata": {
        "id": "0a08b1ac"
      },
      "source": [
        "### 2.7 Question 7\n",
        "Calculate the precision and recall and F1 score.\n"
      ]
    },
    {
      "cell_type": "markdown",
      "id": "3fad65d9",
      "metadata": {
        "id": "3fad65d9"
      },
      "source": [
        "$$Precission = \\frac{TP}{TP + FP}$$\n",
        "\n",
        "$$Recall = \\frac{TP}{TP + FN}$$\n",
        "\n",
        "$$F_{\\beta} = (1 + \\beta^{2})\\frac{Precission * Recall}{(\\beta^{2}* Precision) + Recall)}$$"
      ]
    },
    {
      "cell_type": "markdown",
      "id": "727ea48a",
      "metadata": {
        "id": "727ea48a"
      },
      "source": [
        "Calling the above function and making use of the previous equations we have that the metrics of the confusion matrix are given by:"
      ]
    },
    {
      "cell_type": "code",
      "execution_count": 14,
      "id": "330e861f",
      "metadata": {
        "id": "330e861f"
      },
      "outputs": [],
      "source": [
        "\n",
        "def precision(y, yhat):\n",
        "    # calculate the precision and return it\n",
        "    TP, TN, FP, FN = confusion_matrix(y, yhat)  \n",
        "    pr = TP / (TP + FP)\n",
        "    \n",
        "    return pr\n",
        "\n",
        "def recall(y, yhat):\n",
        "    # calculate the recall and return it\n",
        "    TP, TN, FP, FN = confusion_matrix(y, yhat)\n",
        "    rc = TP / (TP + FN)\n",
        "    \n",
        "    return rc\n",
        "\n",
        "def f_beta(y, yhat, beta=1):\n",
        "    \n",
        "    pr = precision(y, yhat)\n",
        "    rc = recall(y, yhat)\n",
        "    \n",
        "    # calculate the f_beta score and return it\n",
        "    fb = (1 + beta**2) * ((pr * rc) / ((beta**2 * pr) + rc))\n",
        "    \n",
        "    return fb\n"
      ]
    },
    {
      "cell_type": "markdown",
      "id": "808e81b5",
      "metadata": {
        "id": "808e81b5"
      },
      "source": [
        "### 2.8 Question 8\n",
        "Generate a report using the precision, recall and F1 and confusion matrix.\n",
        "The report should be printed like:"
      ]
    },
    {
      "cell_type": "code",
      "execution_count": 15,
      "id": "a4b4ad0a",
      "metadata": {
        "scrolled": false,
        "id": "a4b4ad0a"
      },
      "outputs": [],
      "source": [
        "\n",
        "def print_report(y,yhat):\n",
        "  \"\"\"This function generates a confusion matrix,\n",
        "     each line of the matrix is a string of characters that when summed \n",
        "     and printed generates the result based on the values of y and yhat.\n",
        "  \"\"\"\n",
        "  \n",
        "  TP, TN, FP, FN = confusion_matrix(y, yhat)\n",
        "\n",
        "  pr = np.round(precision(y, yhat),1)\n",
        "  rc = np.round(recall(y, yhat),1)\n",
        "  f1 = np.round(f_beta(y, yhat),1)\n",
        "\n",
        "  row_1 = \"|\" + \" \" * 8 + \"|\" + \" \" * 10 + \"| Predicted |\" + \" \" *10 + \"|\\n\"\n",
        "  row_2 = \"|\" + \" \" * 8 + \"|\" + \" \" * 10 + \"|  Positive |\" + \" Negative |\\n\"\n",
        "  row_3 = \"| Actual |\" + \" Positive |\" + \" \" * (10 - len(str(TP))) + str(TP) + \" |\" + \" \" * (9 - len(str(FN))) + str(FN) + \" |\\n\"\n",
        "  row_4 = \"|\" + \" \" * 8 + \"|\" + \" Negative |\" + \" \" * (10 - len(str(FP))) + str(FP) + \" |\" + \" \" * (9 - len(str(TN))) + str(TN) + \" |\\n\\n\"\n",
        "  row_5 = \"- Precision: {0} \\n\".format(pr)\n",
        "  row_6 = \"- Recall: {0} \\n\".format(rc)\n",
        "  row_7 = \"- F_1 Score: {0} \\n\".format(f1)\n",
        "\n",
        "  conf_matrix = (row_1+row_2+row_3+row_4+row_5+row_6+row_7)\n",
        "\n",
        "  print(conf_matrix)\n",
        "\n"
      ]
    },
    {
      "cell_type": "code",
      "source": [
        "print_report(y,yhat)"
      ],
      "metadata": {
        "id": "tO2vWBo40_6G",
        "colab": {
          "base_uri": "https://localhost:8080/"
        },
        "outputId": "d560c152-0784-435e-c855-6fc4701188fe"
      },
      "id": "tO2vWBo40_6G",
      "execution_count": 16,
      "outputs": [
        {
          "output_type": "stream",
          "name": "stdout",
          "text": [
            "|        |          | Predicted |          |\n",
            "|        |          |  Positive | Negative |\n",
            "| Actual | Positive |        10 |        0 |\n",
            "|        | Negative |         0 |       20 |\n",
            "\n",
            "- Precision: 1.0 \n",
            "- Recall: 1.0 \n",
            "- F_1 Score: 1.0 \n",
            "\n"
          ]
        }
      ]
    },
    {
      "cell_type": "markdown",
      "id": "8beb8ea0",
      "metadata": {
        "id": "8beb8ea0"
      },
      "source": [
        "### 2.9 Question 9\n",
        "Calculate the true-positive and false positive rate, and from these values\n",
        "generate a ROC curve.\n"
      ]
    },
    {
      "cell_type": "markdown",
      "source": [
        "$$FPR = \\frac{FP}{FP + TN}$$\n",
        "\n",
        "$$TPR = \\frac{TP}{TP + TN}$$"
      ],
      "metadata": {
        "id": "I7_kgdO-6Yfn"
      },
      "id": "I7_kgdO-6Yfn"
    },
    {
      "cell_type": "code",
      "execution_count": 17,
      "id": "2eba1750",
      "metadata": {
        "id": "2eba1750"
      },
      "outputs": [],
      "source": [
        "def roc(y, lr, x ,threshold_step=0.01):\n",
        "# iteratively increase the threshold by threshold_step,\n",
        "# calculating the TP and FP rate for each iteration. This function\n",
        "# should return two lists, a list of TP rates, and a list of FP\n",
        "# rates.\n",
        "    steps = np.arange(0,1,threshold_step)\n",
        "    \n",
        "    TP_rate = []\n",
        "    FP_rate = []\n",
        "\n",
        "    for step in steps:\n",
        "\n",
        "      pred = lr.predict(x, step)\n",
        "      TP, TN, FP, FN = confusion_matrix(y, pred)\n",
        "\n",
        "      TP_rate.append(TP / (TP + FN))\n",
        "      FP_rate.append(FP / (FP + TN))\n",
        "\n",
        "\n",
        "    return FP_rate, TP_rate\n",
        "\n",
        "FP_rate, TP_rate = roc(test_y, lr, test_x)"
      ]
    },
    {
      "cell_type": "code",
      "source": [
        "import matplotlib.pyplot as plt\n",
        "\n",
        "plt.figure(figsize=(10, 5), dpi=80)\n",
        "plt.plot(FP_rate, TP_rate)\n",
        "\n",
        "plt.title(\"ROC Curve\")\n",
        "plt.xlabel(\"False positive rate\")\n",
        "plt.ylabel(\"True positive rate\")\n",
        "plt.grid()\n",
        "plt.show()"
      ],
      "metadata": {
        "id": "BifJTWEOx7nF",
        "colab": {
          "base_uri": "https://localhost:8080/",
          "height": 383
        },
        "outputId": "bb967e91-8d5e-4119-e09c-56b67090f8bc"
      },
      "id": "BifJTWEOx7nF",
      "execution_count": 18,
      "outputs": [
        {
          "output_type": "display_data",
          "data": {
            "text/plain": [
              "<Figure size 800x400 with 1 Axes>"
            ],
            "image/png": "[encoded data removed]"
          },
          "metadata": {
            "needs_background": "light"
          }
        }
      ]
    },
    {
      "cell_type": "markdown",
      "id": "10e280b5",
      "metadata": {
        "id": "10e280b5"
      },
      "source": [
        "### 2.10 Question 10\n",
        "Now that you’ve created a logistic classifier for two features of the Iris dataset\n",
        "and have created some analytic results. Select another two columns (i.e.\n",
        "petal width and sepal length, or petal length and sepal width). Create\n",
        "a different logistic classifier using these new columns and create the same\n",
        "results as you did with questions 8 and 9.\n",
        "Compare these two models trained with different columns. Which model\n",
        "is best, and why do we know that it’s the best?\n"
      ]
    },
    {
      "cell_type": "markdown",
      "source": [
        "As seen in the first section \"Sepal_Length\", \"Sepal_Width\", are the least separable variables for a logistic model and therefore will be used to train a new model."
      ],
      "metadata": {
        "id": "DnG-ZiZFFnKP"
      },
      "id": "DnG-ZiZFFnKP"
    },
    {
      "cell_type": "code",
      "source": [
        "# An object using the LogisticRegressor class is generated. \n",
        "lr2 = LogisticRegressor()\n",
        "\n",
        "train_x = training_set[[\"Sepal_Length\",\t\"Sepal_Width\"]]\n",
        "train_y = training_set['target']\n",
        "\n",
        "test_x = testing_set[[\"Sepal_Length\",\t\"Sepal_Width\"]]\n",
        "test_y = testing_set['target']\n",
        "\n",
        "valid_x = validation_set[[\"Sepal_Length\",\t\"Sepal_Width\"]]\n",
        "valid_y = validation_set['target']\n",
        "\n",
        "# The model is adjusted\n",
        "training_loss, validation_loss = lr2.fit(train_x, train_y, valid_x, valid_y)\n",
        "\n",
        "# The model training and validation loss are plotted.\n",
        "plt.figure(figsize=(10, 5), dpi=80)\n",
        "plt.plot(training_loss)\n",
        "plt.plot(validation_loss)\n",
        "plt.title(\"Training vs validation loss\")\n",
        "plt.xlabel(\"Epochs\")\n",
        "plt.ylabel(\"Loss\")\n",
        "plt.legend(['Training loss','Validation loss'])\n",
        "plt.grid()\n",
        "plt.show()"
      ],
      "metadata": {
        "colab": {
          "base_uri": "https://localhost:8080/",
          "height": 383
        },
        "id": "TOp6NRspD-DJ",
        "outputId": "37a2f879-6bc0-47b7-99b0-2fa8fe733529"
      },
      "id": "TOp6NRspD-DJ",
      "execution_count": 19,
      "outputs": [
        {
          "output_type": "display_data",
          "data": {
            "text/plain": [
              "<Figure size 800x400 with 1 Axes>"
            ],
            "image/png": "[encoded data removed]"
          },
          "metadata": {
            "needs_background": "light"
          }
        }
      ]
    },
    {
      "cell_type": "markdown",
      "source": [
        "It is very noticeable that the model takes much longer to converge with respect to the variables of the previous model."
      ],
      "metadata": {
        "id": "bQjyKVhgFzgH"
      },
      "id": "bQjyKVhgFzgH"
    },
    {
      "cell_type": "code",
      "source": [
        "# The target variable is called y\n",
        "y = test_y\n",
        "\n",
        "# The predictor variable is called yhat_2\n",
        "yhat_2 = lr2.predict(test_x)\n",
        "yhat_2\n",
        "\n",
        "print_report(y,yhat_2)\n"
      ],
      "metadata": {
        "colab": {
          "base_uri": "https://localhost:8080/"
        },
        "id": "HHiqFTRwCCdC",
        "outputId": "cbbe376e-1a3b-47ff-f5bf-acc5e6c4ffc4"
      },
      "id": "HHiqFTRwCCdC",
      "execution_count": 20,
      "outputs": [
        {
          "output_type": "stream",
          "name": "stdout",
          "text": [
            "|        |          | Predicted |          |\n",
            "|        |          |  Positive | Negative |\n",
            "| Actual | Positive |        10 |        0 |\n",
            "|        | Negative |         0 |       20 |\n",
            "\n",
            "- Precision: 1.0 \n",
            "- Recall: 1.0 \n",
            "- F_1 Score: 1.0 \n",
            "\n"
          ]
        }
      ]
    },
    {
      "cell_type": "code",
      "source": [
        "FP_rate, TP_rate = roc(y, lr2, test_x)\n",
        "\n",
        "plt.figure(figsize=(10, 5), dpi=80)\n",
        "plt.plot(FP_rate, TP_rate)\n",
        "\n",
        "plt.title(\"ROC Curve\")\n",
        "plt.xlabel(\"False positive rate\")\n",
        "plt.ylabel(\"True positive rate\")\n",
        "plt.grid()\n",
        "plt.show()"
      ],
      "metadata": {
        "colab": {
          "base_uri": "https://localhost:8080/",
          "height": 383
        },
        "id": "nufZy3OUEDOP",
        "outputId": "4dd55da1-f539-430f-d053-41b02dc835cb"
      },
      "id": "nufZy3OUEDOP",
      "execution_count": 21,
      "outputs": [
        {
          "output_type": "display_data",
          "data": {
            "text/plain": [
              "<Figure size 800x400 with 1 Axes>"
            ],
            "image/png": "[encoded data removed]"
          },
          "metadata": {
            "needs_background": "light"
          }
        }
      ]
    },
    {
      "cell_type": "markdown",
      "source": [
        "The training results of both models show that for this data set when using pairs of 2 different regressor variables the same results are obtained if we compare them using the test data, in the worst case the results will be very similar regardless of the selected threshold."
      ],
      "metadata": {
        "id": "vutQbeX5FTBA"
      },
      "id": "vutQbeX5FTBA"
    }
  ],
  "metadata": {
    "kernelspec": {
      "display_name": "Python 3 (ipykernel)",
      "language": "python",
      "name": "python3"
    },
    "language_info": {
      "codemirror_mode": {
        "name": "ipython",
        "version": 3
      },
      "file_extension": ".py",
      "mimetype": "text/x-python",
      "name": "python",
      "nbconvert_exporter": "python",
      "pygments_lexer": "ipython3",
      "version": "3.8.15"
    },
    "colab": {
      "provenance": []
    }
  },
  "nbformat": 4,
  "nbformat_minor": 5
}